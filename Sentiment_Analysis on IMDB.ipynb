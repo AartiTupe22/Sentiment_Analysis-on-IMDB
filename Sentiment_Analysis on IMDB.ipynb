{
 "cells": [
  {
   "cell_type": "code",
   "execution_count": 1,
   "metadata": {
    "colab": {
     "base_uri": "https://localhost:8080/"
    },
    "id": "OT-Hi5F_0X9z",
    "outputId": "486bb8f0-6236-4db0-cf51-aa112e12d105"
   },
   "outputs": [],
   "source": [
    "#!pip install tensorflow-text"
   ]
  },
  {
   "cell_type": "code",
   "execution_count": 2,
   "metadata": {
    "colab": {
     "base_uri": "https://localhost:8080/"
    },
    "id": "vbn_Jc8WsUd-",
    "outputId": "2e83ea2e-d269-45c5-ce7c-713d7050a244"
   },
   "outputs": [],
   "source": [
    "#!pip install unstructured\n",
    "#!pip install langchain"
   ]
  },
  {
   "cell_type": "code",
   "execution_count": 14,
   "metadata": {},
   "outputs": [
    {
     "name": "stdout",
     "output_type": "stream",
     "text": [
      "Requirement already satisfied: tensorflow in c:\\users\\aarti tupe farkade\\anaconda3\\lib\\site-packages (2.13.0)\n",
      "Requirement already satisfied: tensorflow-intel==2.13.0 in c:\\users\\aarti tupe farkade\\anaconda3\\lib\\site-packages (from tensorflow) (2.13.0)\n",
      "Requirement already satisfied: typing-extensions<4.6.0,>=3.6.6 in c:\\users\\aarti tupe farkade\\anaconda3\\lib\\site-packages (from tensorflow-intel==2.13.0->tensorflow) (4.4.0)\n",
      "Requirement already satisfied: opt-einsum>=2.3.2 in c:\\users\\aarti tupe farkade\\anaconda3\\lib\\site-packages (from tensorflow-intel==2.13.0->tensorflow) (3.3.0)\n",
      "Requirement already satisfied: tensorflow-io-gcs-filesystem>=0.23.1 in c:\\users\\aarti tupe farkade\\anaconda3\\lib\\site-packages (from tensorflow-intel==2.13.0->tensorflow) (0.31.0)\n",
      "Requirement already satisfied: numpy<=1.24.3,>=1.22 in c:\\users\\aarti tupe farkade\\anaconda3\\lib\\site-packages (from tensorflow-intel==2.13.0->tensorflow) (1.23.5)\n",
      "Requirement already satisfied: gast<=0.4.0,>=0.2.1 in c:\\users\\aarti tupe farkade\\anaconda3\\lib\\site-packages (from tensorflow-intel==2.13.0->tensorflow) (0.4.0)\n",
      "Requirement already satisfied: packaging in c:\\users\\aarti tupe farkade\\anaconda3\\lib\\site-packages (from tensorflow-intel==2.13.0->tensorflow) (22.0)\n",
      "Collecting protobuf!=4.21.0,!=4.21.1,!=4.21.2,!=4.21.3,!=4.21.4,!=4.21.5,<5.0.0dev,>=3.20.3\n",
      "  Downloading protobuf-4.25.3-cp310-abi3-win_amd64.whl (413 kB)\n",
      "     -------------------------------------- 413.4/413.4 kB 2.6 MB/s eta 0:00:00\n",
      "Collecting keras<2.14,>=2.13.1\n",
      "  Using cached keras-2.13.1-py3-none-any.whl (1.7 MB)\n",
      "Requirement already satisfied: flatbuffers>=23.1.21 in c:\\users\\aarti tupe farkade\\anaconda3\\lib\\site-packages (from tensorflow-intel==2.13.0->tensorflow) (23.5.26)\n",
      "Requirement already satisfied: libclang>=13.0.0 in c:\\users\\aarti tupe farkade\\anaconda3\\lib\\site-packages (from tensorflow-intel==2.13.0->tensorflow) (16.0.6)\n",
      "Requirement already satisfied: six>=1.12.0 in c:\\users\\aarti tupe farkade\\anaconda3\\lib\\site-packages (from tensorflow-intel==2.13.0->tensorflow) (1.16.0)\n",
      "Requirement already satisfied: tensorboard<2.14,>=2.13 in c:\\users\\aarti tupe farkade\\anaconda3\\lib\\site-packages (from tensorflow-intel==2.13.0->tensorflow) (2.13.0)\n",
      "Requirement already satisfied: grpcio<2.0,>=1.24.3 in c:\\users\\aarti tupe farkade\\anaconda3\\lib\\site-packages (from tensorflow-intel==2.13.0->tensorflow) (1.57.0)\n",
      "Requirement already satisfied: google-pasta>=0.1.1 in c:\\users\\aarti tupe farkade\\anaconda3\\lib\\site-packages (from tensorflow-intel==2.13.0->tensorflow) (0.2.0)\n",
      "Requirement already satisfied: wrapt>=1.11.0 in c:\\users\\aarti tupe farkade\\anaconda3\\lib\\site-packages (from tensorflow-intel==2.13.0->tensorflow) (1.16.0)\n",
      "Requirement already satisfied: absl-py>=1.0.0 in c:\\users\\aarti tupe farkade\\anaconda3\\lib\\site-packages (from tensorflow-intel==2.13.0->tensorflow) (1.4.0)\n",
      "Requirement already satisfied: astunparse>=1.6.0 in c:\\users\\aarti tupe farkade\\anaconda3\\lib\\site-packages (from tensorflow-intel==2.13.0->tensorflow) (1.6.3)\n",
      "Requirement already satisfied: h5py>=2.9.0 in c:\\users\\aarti tupe farkade\\anaconda3\\lib\\site-packages (from tensorflow-intel==2.13.0->tensorflow) (3.7.0)\n",
      "Collecting tensorflow-estimator<2.14,>=2.13.0\n",
      "  Using cached tensorflow_estimator-2.13.0-py2.py3-none-any.whl (440 kB)\n",
      "Requirement already satisfied: setuptools in c:\\users\\aarti tupe farkade\\anaconda3\\lib\\site-packages (from tensorflow-intel==2.13.0->tensorflow) (65.6.3)\n",
      "Requirement already satisfied: termcolor>=1.1.0 in c:\\users\\aarti tupe farkade\\anaconda3\\lib\\site-packages (from tensorflow-intel==2.13.0->tensorflow) (2.3.0)\n",
      "Requirement already satisfied: wheel<1.0,>=0.23.0 in c:\\users\\aarti tupe farkade\\anaconda3\\lib\\site-packages (from astunparse>=1.6.0->tensorflow-intel==2.13.0->tensorflow) (0.38.4)\n",
      "Collecting tensorboard-data-server<0.8.0,>=0.7.0\n",
      "  Downloading tensorboard_data_server-0.7.2-py3-none-any.whl (2.4 kB)\n",
      "Requirement already satisfied: requests<3,>=2.21.0 in c:\\users\\aarti tupe farkade\\anaconda3\\lib\\site-packages (from tensorboard<2.14,>=2.13->tensorflow-intel==2.13.0->tensorflow) (2.28.1)\n",
      "Requirement already satisfied: google-auth-oauthlib<1.1,>=0.5 in c:\\users\\aarti tupe farkade\\anaconda3\\lib\\site-packages (from tensorboard<2.14,>=2.13->tensorflow-intel==2.13.0->tensorflow) (1.0.0)\n",
      "Requirement already satisfied: google-auth<3,>=1.6.3 in c:\\users\\aarti tupe farkade\\anaconda3\\lib\\site-packages (from tensorboard<2.14,>=2.13->tensorflow-intel==2.13.0->tensorflow) (2.22.0)\n",
      "Requirement already satisfied: markdown>=2.6.8 in c:\\users\\aarti tupe farkade\\anaconda3\\lib\\site-packages (from tensorboard<2.14,>=2.13->tensorflow-intel==2.13.0->tensorflow) (3.4.1)\n",
      "Requirement already satisfied: werkzeug>=1.0.1 in c:\\users\\aarti tupe farkade\\anaconda3\\lib\\site-packages (from tensorboard<2.14,>=2.13->tensorflow-intel==2.13.0->tensorflow) (2.2.2)\n",
      "Requirement already satisfied: cachetools<6.0,>=2.0.0 in c:\\users\\aarti tupe farkade\\anaconda3\\lib\\site-packages (from google-auth<3,>=1.6.3->tensorboard<2.14,>=2.13->tensorflow-intel==2.13.0->tensorflow) (5.3.1)\n",
      "Requirement already satisfied: urllib3<2.0 in c:\\users\\aarti tupe farkade\\anaconda3\\lib\\site-packages (from google-auth<3,>=1.6.3->tensorboard<2.14,>=2.13->tensorflow-intel==2.13.0->tensorflow) (1.26.18)\n",
      "Requirement already satisfied: rsa<5,>=3.1.4 in c:\\users\\aarti tupe farkade\\anaconda3\\lib\\site-packages (from google-auth<3,>=1.6.3->tensorboard<2.14,>=2.13->tensorflow-intel==2.13.0->tensorflow) (4.9)\n",
      "Requirement already satisfied: pyasn1-modules>=0.2.1 in c:\\users\\aarti tupe farkade\\anaconda3\\lib\\site-packages (from google-auth<3,>=1.6.3->tensorboard<2.14,>=2.13->tensorflow-intel==2.13.0->tensorflow) (0.2.8)\n",
      "Requirement already satisfied: requests-oauthlib>=0.7.0 in c:\\users\\aarti tupe farkade\\anaconda3\\lib\\site-packages (from google-auth-oauthlib<1.1,>=0.5->tensorboard<2.14,>=2.13->tensorflow-intel==2.13.0->tensorflow) (1.3.1)\n",
      "Requirement already satisfied: certifi>=2017.4.17 in c:\\users\\aarti tupe farkade\\anaconda3\\lib\\site-packages (from requests<3,>=2.21.0->tensorboard<2.14,>=2.13->tensorflow-intel==2.13.0->tensorflow) (2022.12.7)\n",
      "Requirement already satisfied: idna<4,>=2.5 in c:\\users\\aarti tupe farkade\\anaconda3\\lib\\site-packages (from requests<3,>=2.21.0->tensorboard<2.14,>=2.13->tensorflow-intel==2.13.0->tensorflow) (3.4)\n",
      "Requirement already satisfied: charset-normalizer<3,>=2 in c:\\users\\aarti tupe farkade\\anaconda3\\lib\\site-packages (from requests<3,>=2.21.0->tensorboard<2.14,>=2.13->tensorflow-intel==2.13.0->tensorflow) (2.0.4)\n",
      "Requirement already satisfied: MarkupSafe>=2.1.1 in c:\\users\\aarti tupe farkade\\anaconda3\\lib\\site-packages (from werkzeug>=1.0.1->tensorboard<2.14,>=2.13->tensorflow-intel==2.13.0->tensorflow) (2.1.1)\n",
      "Requirement already satisfied: pyasn1<0.5.0,>=0.4.6 in c:\\users\\aarti tupe farkade\\anaconda3\\lib\\site-packages (from pyasn1-modules>=0.2.1->google-auth<3,>=1.6.3->tensorboard<2.14,>=2.13->tensorflow-intel==2.13.0->tensorflow) (0.4.8)\n",
      "Requirement already satisfied: oauthlib>=3.0.0 in c:\\users\\aarti tupe farkade\\anaconda3\\lib\\site-packages (from requests-oauthlib>=0.7.0->google-auth-oauthlib<1.1,>=0.5->tensorboard<2.14,>=2.13->tensorflow-intel==2.13.0->tensorflow) (3.2.2)\n",
      "Installing collected packages: tensorflow-estimator, tensorboard-data-server, protobuf, keras\n",
      "  Attempting uninstall: tensorflow-estimator\n",
      "    Found existing installation: tensorflow-estimator 2.10.0\n",
      "    Uninstalling tensorflow-estimator-2.10.0:\n",
      "      Successfully uninstalled tensorflow-estimator-2.10.0\n",
      "  Attempting uninstall: tensorboard-data-server\n",
      "    Found existing installation: tensorboard-data-server 0.6.1\n",
      "    Uninstalling tensorboard-data-server-0.6.1:\n",
      "      Successfully uninstalled tensorboard-data-server-0.6.1\n",
      "  Attempting uninstall: protobuf\n",
      "    Found existing installation: protobuf 3.19.6\n",
      "    Uninstalling protobuf-3.19.6:\n",
      "      Successfully uninstalled protobuf-3.19.6\n",
      "  Attempting uninstall: keras\n",
      "    Found existing installation: keras 2.10.0\n",
      "    Uninstalling keras-2.10.0:\n",
      "      Successfully uninstalled keras-2.10.0\n",
      "Successfully installed keras-2.13.1 protobuf-4.25.3 tensorboard-data-server-0.7.2 tensorflow-estimator-2.13.0\n",
      "Note: you may need to restart the kernel to use updated packages.\n"
     ]
    },
    {
     "name": "stderr",
     "output_type": "stream",
     "text": [
      "WARNING: Ignoring invalid distribution -rotobuf (c:\\users\\aarti tupe farkade\\anaconda3\\lib\\site-packages)\n",
      "WARNING: Ignoring invalid distribution -rotobuf (c:\\users\\aarti tupe farkade\\anaconda3\\lib\\site-packages)\n",
      "WARNING: Ignoring invalid distribution -rotobuf (c:\\users\\aarti tupe farkade\\anaconda3\\lib\\site-packages)\n",
      "    WARNING: Ignoring invalid distribution -rotobuf (c:\\users\\aarti tupe farkade\\anaconda3\\lib\\site-packages)\n",
      "    WARNING: Ignoring invalid distribution -rotobuf (c:\\users\\aarti tupe farkade\\anaconda3\\lib\\site-packages)\n",
      "    WARNING: Ignoring invalid distribution -rotobuf (c:\\users\\aarti tupe farkade\\anaconda3\\lib\\site-packages)\n",
      "    WARNING: Ignoring invalid distribution -rotobuf (c:\\users\\aarti tupe farkade\\anaconda3\\lib\\site-packages)\n",
      "WARNING: Ignoring invalid distribution -rotobuf (c:\\users\\aarti tupe farkade\\anaconda3\\lib\\site-packages)\n",
      "WARNING: Ignoring invalid distribution -rotobuf (c:\\users\\aarti tupe farkade\\anaconda3\\lib\\site-packages)\n",
      "WARNING: Ignoring invalid distribution -rotobuf (c:\\users\\aarti tupe farkade\\anaconda3\\lib\\site-packages)\n",
      "WARNING: Ignoring invalid distribution -rotobuf (c:\\users\\aarti tupe farkade\\anaconda3\\lib\\site-packages)\n",
      "WARNING: Ignoring invalid distribution -rotobuf (c:\\users\\aarti tupe farkade\\anaconda3\\lib\\site-packages)\n",
      "WARNING: Ignoring invalid distribution -rotobuf (c:\\users\\aarti tupe farkade\\anaconda3\\lib\\site-packages)\n",
      "WARNING: Ignoring invalid distribution -rotobuf (c:\\users\\aarti tupe farkade\\anaconda3\\lib\\site-packages)\n"
     ]
    }
   ],
   "source": [
    "#pip install tensorflow"
   ]
  },
  {
   "cell_type": "code",
   "execution_count": 15,
   "metadata": {},
   "outputs": [
    {
     "name": "stdout",
     "output_type": "stream",
     "text": [
      "Collecting tensorflow_hub\n",
      "  Using cached tensorflow_hub-0.16.1-py2.py3-none-any.whl (30 kB)\n",
      "Requirement already satisfied: tf-keras>=2.14.1 in c:\\users\\aarti tupe farkade\\anaconda3\\lib\\site-packages (from tensorflow_hub) (2.15.0)\n",
      "Requirement already satisfied: numpy>=1.12.0 in c:\\users\\aarti tupe farkade\\anaconda3\\lib\\site-packages (from tensorflow_hub) (1.23.5)\n",
      "Requirement already satisfied: protobuf>=3.19.6 in c:\\users\\aarti tupe farkade\\anaconda3\\lib\\site-packages (from tensorflow_hub) (4.25.3)\n",
      "Installing collected packages: tensorflow_hub\n",
      "Successfully installed tensorflow_hub-0.16.1\n",
      "Note: you may need to restart the kernel to use updated packages.\n"
     ]
    },
    {
     "name": "stderr",
     "output_type": "stream",
     "text": [
      "WARNING: Ignoring invalid distribution -rotobuf (c:\\users\\aarti tupe farkade\\anaconda3\\lib\\site-packages)\n",
      "WARNING: Ignoring invalid distribution -rotobuf (c:\\users\\aarti tupe farkade\\anaconda3\\lib\\site-packages)\n",
      "WARNING: Ignoring invalid distribution -rotobuf (c:\\users\\aarti tupe farkade\\anaconda3\\lib\\site-packages)\n",
      "WARNING: Ignoring invalid distribution -rotobuf (c:\\users\\aarti tupe farkade\\anaconda3\\lib\\site-packages)\n",
      "WARNING: Ignoring invalid distribution -rotobuf (c:\\users\\aarti tupe farkade\\anaconda3\\lib\\site-packages)\n",
      "WARNING: Ignoring invalid distribution -rotobuf (c:\\users\\aarti tupe farkade\\anaconda3\\lib\\site-packages)\n",
      "WARNING: Ignoring invalid distribution -rotobuf (c:\\users\\aarti tupe farkade\\anaconda3\\lib\\site-packages)\n"
     ]
    }
   ],
   "source": [
    "#pip install tensorflow_hub"
   ]
  },
  {
   "cell_type": "code",
   "execution_count": 16,
   "metadata": {},
   "outputs": [
    {
     "name": "stdout",
     "output_type": "stream",
     "text": [
      "Requirement already satisfied: torch in c:\\users\\aarti tupe farkade\\anaconda3\\lib\\site-packages (1.12.1)\n",
      "Requirement already satisfied: typing_extensions in c:\\users\\aarti tupe farkade\\anaconda3\\lib\\site-packages (from torch) (4.4.0)\n",
      "Note: you may need to restart the kernel to use updated packages.\n"
     ]
    },
    {
     "name": "stderr",
     "output_type": "stream",
     "text": [
      "WARNING: Ignoring invalid distribution -rotobuf (c:\\users\\aarti tupe farkade\\anaconda3\\lib\\site-packages)\n",
      "WARNING: Ignoring invalid distribution -rotobuf (c:\\users\\aarti tupe farkade\\anaconda3\\lib\\site-packages)\n",
      "WARNING: Ignoring invalid distribution -rotobuf (c:\\users\\aarti tupe farkade\\anaconda3\\lib\\site-packages)\n",
      "WARNING: Ignoring invalid distribution -rotobuf (c:\\users\\aarti tupe farkade\\anaconda3\\lib\\site-packages)\n",
      "WARNING: Ignoring invalid distribution -rotobuf (c:\\users\\aarti tupe farkade\\anaconda3\\lib\\site-packages)\n",
      "WARNING: Ignoring invalid distribution -rotobuf (c:\\users\\aarti tupe farkade\\anaconda3\\lib\\site-packages)\n"
     ]
    }
   ],
   "source": [
    "#pip install torch"
   ]
  },
  {
   "cell_type": "code",
   "execution_count": 17,
   "metadata": {},
   "outputs": [
    {
     "name": "stdout",
     "output_type": "stream",
     "text": [
      "Requirement already satisfied: xgboost in c:\\users\\aarti tupe farkade\\anaconda3\\lib\\site-packages (1.7.6)Note: you may need to restart the kernel to use updated packages.\n"
     ]
    },
    {
     "name": "stderr",
     "output_type": "stream",
     "text": [
      "WARNING: Ignoring invalid distribution -rotobuf (c:\\users\\aarti tupe farkade\\anaconda3\\lib\\site-packages)\n",
      "WARNING: Ignoring invalid distribution -rotobuf (c:\\users\\aarti tupe farkade\\anaconda3\\lib\\site-packages)\n",
      "WARNING: Ignoring invalid distribution -rotobuf (c:\\users\\aarti tupe farkade\\anaconda3\\lib\\site-packages)\n",
      "WARNING: Ignoring invalid distribution -rotobuf (c:\\users\\aarti tupe farkade\\anaconda3\\lib\\site-packages)\n",
      "WARNING: Ignoring invalid distribution -rotobuf (c:\\users\\aarti tupe farkade\\anaconda3\\lib\\site-packages)\n",
      "WARNING: Ignoring invalid distribution -rotobuf (c:\\users\\aarti tupe farkade\\anaconda3\\lib\\site-packages)\n"
     ]
    },
    {
     "name": "stdout",
     "output_type": "stream",
     "text": [
      "\n",
      "Requirement already satisfied: numpy in c:\\users\\aarti tupe farkade\\anaconda3\\lib\\site-packages (from xgboost) (1.23.5)\n",
      "Requirement already satisfied: scipy in c:\\users\\aarti tupe farkade\\anaconda3\\lib\\site-packages (from xgboost) (1.10.0)\n"
     ]
    }
   ],
   "source": [
    "#pip install xgboost"
   ]
  },
  {
   "cell_type": "code",
   "execution_count": 1,
   "metadata": {
    "colab": {
     "base_uri": "https://localhost:8080/"
    },
    "id": "Lc-9aqpqscaP",
    "outputId": "d32ad47d-442c-49d0-fcfc-a94c21c5bf3f"
   },
   "outputs": [],
   "source": [
    "import pandas as pd\n",
    "import numpy as np\n",
    "import nltk\n",
    "import re\n",
    "import torch\n",
    "from nltk.corpus import stopwords\n",
    "from nltk.tokenize import word_tokenize\n",
    "import tensorflow as tf\n",
    "import tensorflow_hub as hub\n",
    "from sklearn.model_selection import train_test_split\n",
    "from sklearn.feature_extraction.text import TfidfVectorizer\n",
    "import matplotlib.pyplot as plt\n"
   ]
  },
  {
   "cell_type": "code",
   "execution_count": 2,
   "metadata": {},
   "outputs": [
    {
     "name": "stderr",
     "output_type": "stream",
     "text": [
      "[nltk_data] Downloading package stopwords to C:\\Users\\Aarti Tupe\n",
      "[nltk_data]     Farkade\\AppData\\Roaming\\nltk_data...\n",
      "[nltk_data]   Package stopwords is already up-to-date!\n",
      "[nltk_data] Downloading package words to C:\\Users\\Aarti Tupe\n",
      "[nltk_data]     Farkade\\AppData\\Roaming\\nltk_data...\n",
      "[nltk_data]   Package words is already up-to-date!\n",
      "[nltk_data] Downloading package wordnet to C:\\Users\\Aarti Tupe\n",
      "[nltk_data]     Farkade\\AppData\\Roaming\\nltk_data...\n",
      "[nltk_data]   Package wordnet is already up-to-date!\n"
     ]
    },
    {
     "data": {
      "text/plain": [
       "True"
      ]
     },
     "execution_count": 2,
     "metadata": {},
     "output_type": "execute_result"
    }
   ],
   "source": [
    "nltk.download('stopwords')\n",
    "nltk.download('words')\n",
    "nltk.download('wordnet')"
   ]
  },
  {
   "cell_type": "code",
   "execution_count": 8,
   "metadata": {},
   "outputs": [
    {
     "name": "stderr",
     "output_type": "stream",
     "text": [
      "[nltk_data] Downloading package punkt to C:\\Users\\Aarti Tupe\n",
      "[nltk_data]     Farkade\\AppData\\Roaming\\nltk_data...\n",
      "[nltk_data]   Package punkt is already up-to-date!\n"
     ]
    },
    {
     "data": {
      "text/plain": [
       "True"
      ]
     },
     "execution_count": 8,
     "metadata": {},
     "output_type": "execute_result"
    }
   ],
   "source": [
    "nltk.download('punkt')\n"
   ]
  },
  {
   "cell_type": "code",
   "execution_count": 9,
   "metadata": {},
   "outputs": [],
   "source": [
    "stop_words = set(stopwords.words('english'))"
   ]
  },
  {
   "cell_type": "code",
   "execution_count": 10,
   "metadata": {},
   "outputs": [
    {
     "data": {
      "text/html": [
       "<div>\n",
       "<style scoped>\n",
       "    .dataframe tbody tr th:only-of-type {\n",
       "        vertical-align: middle;\n",
       "    }\n",
       "\n",
       "    .dataframe tbody tr th {\n",
       "        vertical-align: top;\n",
       "    }\n",
       "\n",
       "    .dataframe thead th {\n",
       "        text-align: right;\n",
       "    }\n",
       "</style>\n",
       "<table border=\"1\" class=\"dataframe\">\n",
       "  <thead>\n",
       "    <tr style=\"text-align: right;\">\n",
       "      <th></th>\n",
       "      <th>review</th>\n",
       "      <th>sentiment</th>\n",
       "    </tr>\n",
       "  </thead>\n",
       "  <tbody>\n",
       "    <tr>\n",
       "      <th>0</th>\n",
       "      <td>Lipstick is another glossy movie failure.I am ...</td>\n",
       "      <td>negative</td>\n",
       "    </tr>\n",
       "    <tr>\n",
       "      <th>1</th>\n",
       "      <td>More exciting than the Wesley Snipes film, and...</td>\n",
       "      <td>positive</td>\n",
       "    </tr>\n",
       "    <tr>\n",
       "      <th>2</th>\n",
       "      <td>One of the best war films I have ever seen, if...</td>\n",
       "      <td>positive</td>\n",
       "    </tr>\n",
       "    <tr>\n",
       "      <th>3</th>\n",
       "      <td>i expected something different:more passion,dr...</td>\n",
       "      <td>positive</td>\n",
       "    </tr>\n",
       "    <tr>\n",
       "      <th>4</th>\n",
       "      <td>This movie is mostly chase scenes and special ...</td>\n",
       "      <td>negative</td>\n",
       "    </tr>\n",
       "    <tr>\n",
       "      <th>...</th>\n",
       "      <td>...</td>\n",
       "      <td>...</td>\n",
       "    </tr>\n",
       "    <tr>\n",
       "      <th>49995</th>\n",
       "      <td>Pertty Kiran comes back to home after completi...</td>\n",
       "      <td>positive</td>\n",
       "    </tr>\n",
       "    <tr>\n",
       "      <th>49996</th>\n",
       "      <td>What a disappointment!&lt;br /&gt;&lt;br /&gt;This film se...</td>\n",
       "      <td>negative</td>\n",
       "    </tr>\n",
       "    <tr>\n",
       "      <th>49997</th>\n",
       "      <td>i thought this movie was really really great! ...</td>\n",
       "      <td>positive</td>\n",
       "    </tr>\n",
       "    <tr>\n",
       "      <th>49998</th>\n",
       "      <td>Obviously, someone was looking at catching ont...</td>\n",
       "      <td>negative</td>\n",
       "    </tr>\n",
       "    <tr>\n",
       "      <th>49999</th>\n",
       "      <td>This movie could had been an interesting chara...</td>\n",
       "      <td>negative</td>\n",
       "    </tr>\n",
       "  </tbody>\n",
       "</table>\n",
       "<p>50000 rows × 2 columns</p>\n",
       "</div>"
      ],
      "text/plain": [
       "                                                  review sentiment\n",
       "0      Lipstick is another glossy movie failure.I am ...  negative\n",
       "1      More exciting than the Wesley Snipes film, and...  positive\n",
       "2      One of the best war films I have ever seen, if...  positive\n",
       "3      i expected something different:more passion,dr...  positive\n",
       "4      This movie is mostly chase scenes and special ...  negative\n",
       "...                                                  ...       ...\n",
       "49995  Pertty Kiran comes back to home after completi...  positive\n",
       "49996  What a disappointment!<br /><br />This film se...  negative\n",
       "49997  i thought this movie was really really great! ...  positive\n",
       "49998  Obviously, someone was looking at catching ont...  negative\n",
       "49999  This movie could had been an interesting chara...  negative\n",
       "\n",
       "[50000 rows x 2 columns]"
      ]
     },
     "execution_count": 10,
     "metadata": {},
     "output_type": "execute_result"
    }
   ],
   "source": [
    "df = pd.read_csv('IMDB Dataset.csv')\n",
    "df = df.sample(frac=1).reset_index(drop=True)\n",
    "df"
   ]
  },
  {
   "cell_type": "code",
   "execution_count": 11,
   "metadata": {},
   "outputs": [],
   "source": [
    "class EDA():\n",
    "    def get_length_dist(self,data):\n",
    "        rev_len = [len(i) for i in data]\n",
    "        pd.Series(rev_len).hist()\n",
    "        plt.title('Number of types of commets')\n",
    "        plt.xlabel('length')\n",
    "        plt.ylabel('number')\n",
    "        plt.show()\n",
    "        print(pd.Series(rev_len).describe())\n",
    "    def get_class_dist(self,df):\n",
    "        df['sentiment'].replace({1:'positive',0:'negative'}).value_counts().plot(kind='bar',figsize=(7,4))\n",
    "        plt.title('Number of types')\n",
    "        plt.xlabel('Comment_type')\n",
    "        plt.ylabel('number')\n",
    "        plt.show()"
   ]
  },
  {
   "cell_type": "code",
   "execution_count": 12,
   "metadata": {},
   "outputs": [
    {
     "data": {
      "image/png": "[encoded data removed]",
      "text/plain": [
       "<Figure size 640x480 with 1 Axes>"
      ]
     },
     "metadata": {},
     "output_type": "display_data"
    },
    {
     "name": "stdout",
     "output_type": "stream",
     "text": [
      "count    50000.000000\n",
      "mean      1309.431020\n",
      "std        989.728014\n",
      "min         32.000000\n",
      "25%        699.000000\n",
      "50%        970.000000\n",
      "75%       1590.250000\n",
      "max      13704.000000\n",
      "dtype: float64\n"
     ]
    },
    {
     "data": {
      "image/png": "[encoded data removed]",
      "text/plain": [
       "<Figure size 700x400 with 1 Axes>"
      ]
     },
     "metadata": {},
     "output_type": "display_data"
    }
   ],
   "source": [
    "eda = EDA()\n",
    "eda.get_length_dist(df['review'])\n",
    "eda.get_class_dist(df)"
   ]
  },
  {
   "cell_type": "code",
   "execution_count": 13,
   "metadata": {},
   "outputs": [],
   "source": [
    "def preprocess_text(text):\n",
    "    # Remove HTML tags and strip whitespace\n",
    "    text = re.sub(r'<[^>]*>', '', text)\n",
    "    text = text.strip()\n",
    "    # Remove noisy characters and extra spaces\n",
    "    text = re.sub(r'[^\\w\\s]', '', text)\n",
    "    text = re.sub(r'\\s+', ' ', text)\n",
    "    # Lowercase text\n",
    "    text = text.lower()\n",
    "    # Tokenize text and remove stopwords\n",
    "    words = word_tokenize(text)\n",
    "    words = [word for word in words if word not in stop_words]\n",
    "    return ' '.join(words)"
   ]
  },
  {
   "cell_type": "code",
   "execution_count": 14,
   "metadata": {},
   "outputs": [],
   "source": [
    "df['review'] = df['review'].apply(preprocess_text)"
   ]
  },
  {
   "cell_type": "code",
   "execution_count": 15,
   "metadata": {},
   "outputs": [
    {
     "data": {
      "text/plain": [
       "0     lipstick another glossy movie failurei trying ...\n",
       "1     exciting wesley snipes film better characters ...\n",
       "2     one best war films ever seen best hard talk fi...\n",
       "3     expected something differentmore passiondramaa...\n",
       "4     movie mostly chase scenes special effects weak...\n",
       "5     first movie one word wow probably one best mov...\n",
       "6     print one greatest short stories ever written ...\n",
       "7     really enjoyed girl fight something could watc...\n",
       "8     film 1st avp film whole aliens predator franch...\n",
       "9     movie brilliant srks acting amazing end incred...\n",
       "10    mr bean bunch unfunny slapstick humour shallow...\n",
       "11    ten times better wants super model bravo think...\n",
       "12    show incredibly hilarious couldnt stop watchin...\n",
       "13    30 years still remember movie worst ive ever s...\n",
       "14    movie simple yet clever premise unemployed man...\n",
       "15    first movie ive purchased almost certainly one...\n",
       "16    see evil kane movie great storyline wasnt hide...\n",
       "17    greatest movie gives us clue depth souls deadl...\n",
       "18    major flaw film uninspired script plods back f...\n",
       "19    seen film quite time caught long ago nicely tr...\n",
       "Name: review, dtype: object"
      ]
     },
     "execution_count": 15,
     "metadata": {},
     "output_type": "execute_result"
    }
   ],
   "source": [
    "df['review'].head(20)"
   ]
  },
  {
   "cell_type": "code",
   "execution_count": 16,
   "metadata": {},
   "outputs": [],
   "source": [
    "x = df['review']\n",
    "y = df['sentiment']"
   ]
  },
  {
   "cell_type": "code",
   "execution_count": 17,
   "metadata": {},
   "outputs": [
    {
     "data": {
      "text/plain": [
       "array([0, 1, 1, ..., 1, 0, 0])"
      ]
     },
     "execution_count": 17,
     "metadata": {},
     "output_type": "execute_result"
    }
   ],
   "source": [
    "from sklearn.preprocessing import LabelEncoder\n",
    "label_encode = LabelEncoder()\n",
    "Y = label_encode.fit_transform(df['sentiment'])\n",
    "Y"
   ]
  },
  {
   "cell_type": "code",
   "execution_count": 18,
   "metadata": {},
   "outputs": [
    {
     "data": {
      "text/plain": [
       "0        negative\n",
       "1        positive\n",
       "2        positive\n",
       "3        positive\n",
       "4        negative\n",
       "           ...   \n",
       "49995    positive\n",
       "49996    negative\n",
       "49997    positive\n",
       "49998    negative\n",
       "49999    negative\n",
       "Name: sentiment, Length: 50000, dtype: object"
      ]
     },
     "execution_count": 18,
     "metadata": {},
     "output_type": "execute_result"
    }
   ],
   "source": [
    "y"
   ]
  },
  {
   "cell_type": "markdown",
   "metadata": {},
   "source": [
    "Note: 0 represent negative comments and 1 represent positive comments\n",
    "Split the dataset into training and testing sets"
   ]
  },
  {
   "cell_type": "code",
   "execution_count": 19,
   "metadata": {},
   "outputs": [],
   "source": [
    "xtrain, xtest, ytrain, ytest = train_test_split(x, Y, test_size=0.2, random_state=42)"
   ]
  },
  {
   "cell_type": "markdown",
   "metadata": {},
   "source": [
    "Create a vocabulary"
   ]
  },
  {
   "cell_type": "code",
   "execution_count": 20,
   "metadata": {},
   "outputs": [],
   "source": [
    "# Create a vocabulary\n",
    "from collections import Counter\n",
    "word_counts = Counter(' '.join(xtrain).split())"
   ]
  },
  {
   "cell_type": "markdown",
   "metadata": {},
   "source": [
    "Display each word in the vocabulary along with its count"
   ]
  },
  {
   "cell_type": "code",
   "execution_count": 21,
   "metadata": {},
   "outputs": [],
   "source": [
    "#for word, count in word_counts.items():\n",
    "    #print(f\"{word}: {count}\")"
   ]
  },
  {
   "cell_type": "code",
   "execution_count": 22,
   "metadata": {},
   "outputs": [],
   "source": [
    "#vocab = [word for word, count in word_counts.most_common()]\n",
    "#vocab"
   ]
  },
  {
   "cell_type": "markdown",
   "metadata": {},
   "source": [
    "# Classification with various classifiers\n",
    "1. Linear SVM\n",
    "2. Logistic Regression (LR)\n",
    "3. Naive Bayes\n",
    "4. XGBoost\n",
    "5. Random Forest"
   ]
  },
  {
   "cell_type": "code",
   "execution_count": 23,
   "metadata": {},
   "outputs": [],
   "source": [
    "#Import libraries\n",
    "from sklearn.svm import LinearSVC\n",
    "from sklearn.linear_model import LogisticRegression\n",
    "from sklearn.naive_bayes import MultinomialNB\n",
    "from xgboost import XGBClassifier\n",
    "from sklearn.ensemble import RandomForestClassifier\n",
    "from sklearn.metrics import accuracy_score, precision_score, recall_score, f1_score, classification_report, confusion_matrix\n",
    "from timeit import default_timer as timer"
   ]
  },
  {
   "cell_type": "markdown",
   "metadata": {},
   "source": [
    "Initialize classifiers"
   ]
  },
  {
   "cell_type": "code",
   "execution_count": 24,
   "metadata": {},
   "outputs": [],
   "source": [
    "svm_classifier = LinearSVC()\n",
    "logistic_regression = LogisticRegression(max_iter=1000)\n",
    "nb_classifier = MultinomialNB()\n",
    "xgboost_classifier = XGBClassifier()\n",
    "random_forest_classifier = RandomForestClassifier(n_estimators=100, max_depth=3, max_features='sqrt', min_samples_leaf=4, bootstrap=True, n_jobs=-1, random_state=0)"
   ]
  },
  {
   "cell_type": "code",
   "execution_count": 25,
   "metadata": {},
   "outputs": [],
   "source": [
    "def evaluate_model(model, xtest, ytest):\n",
    "    # Make predictions using the model\n",
    "    y_pred = model.predict(xtest)\n",
    "\n",
    "    # Calculate accuracy\n",
    "    accuracy = accuracy_score(ytest, y_pred)\n",
    "    # Calculate precision\n",
    "    precision = precision_score(ytest, y_pred)\n",
    "    # Calculate recall\n",
    "    recall = recall_score(ytest, y_pred)\n",
    "    # Calculate f1 score\n",
    "    f1 = f1_score(ytest, y_pred)\n",
    "    # Generate a classification report and confusion matrix\n",
    "    report = classification_report(ytest, y_pred)\n",
    "    cm = confusion_matrix(ytest, y_pred)\n",
    "    return y_pred, accuracy, precision, recall, f1, report, cm"
   ]
  },
  {
   "cell_type": "code",
   "execution_count": 26,
   "metadata": {},
   "outputs": [],
   "source": [
    "# Define batch size\n",
    "batch_size = 1000"
   ]
  },
  {
   "cell_type": "markdown",
   "metadata": {},
   "source": [
    "# 1. TF-IDF"
   ]
  },
  {
   "cell_type": "markdown",
   "metadata": {},
   "source": [
    "TF-IDF Vectorization"
   ]
  },
  {
   "cell_type": "code",
   "execution_count": 27,
   "metadata": {},
   "outputs": [],
   "source": [
    "tfidf_vectorizer = TfidfVectorizer(max_features=5000)"
   ]
  },
  {
   "cell_type": "code",
   "execution_count": 30,
   "metadata": {},
   "outputs": [
    {
     "name": "stdout",
     "output_type": "stream",
     "text": [
      "Required time for embedding TFIDF with train data:-  7.092764199944213\n"
     ]
    }
   ],
   "source": [
    "start = timer()\n",
    "tfidf_vectorizer_xtrain = []\n",
    "for i in range(0, len(xtrain), batch_size):\n",
    "    batch_X_train = xtrain[i:i + batch_size]\n",
    "    batch_X_train_tfidf = tfidf_vectorizer.fit_transform(batch_X_train)\n",
    "    tfidf_vectorizer_xtrain.extend(batch_X_train_tfidf.toarray())\n",
    "print('Required time for embedding TFIDF with train data:- ', timer() - start) "
   ]
  },
  {
   "cell_type": "markdown",
   "metadata": {},
   "source": [
    "Repeat the same process for test data"
   ]
  },
  {
   "cell_type": "code",
   "execution_count": 31,
   "metadata": {},
   "outputs": [
    {
     "name": "stdout",
     "output_type": "stream",
     "text": [
      "Required time for embedding TFIDF with train data:-  1.440506799845025\n"
     ]
    }
   ],
   "source": [
    "start = timer()\n",
    "tfidf_vectorizer_xtest = []\n",
    "for i in range(0, len(xtest), batch_size):\n",
    "    batch_X_test = xtest[i:i + batch_size]\n",
    "    batch_X_test_tfidf = tfidf_vectorizer.transform(batch_X_test)\n",
    "    tfidf_vectorizer_xtest.extend(batch_X_test_tfidf.toarray())\n",
    "print('Required time for embedding TFIDF with train data:- ', timer() - start) "
   ]
  },
  {
   "cell_type": "markdown",
   "metadata": {},
   "source": [
    "Fit classifiers"
   ]
  },
  {
   "cell_type": "code",
   "execution_count": 32,
   "metadata": {},
   "outputs": [
    {
     "name": "stdout",
     "output_type": "stream",
     "text": [
      "Required time for training Linear SVM classifiers:-  11.11990849999711\n",
      "Required time for training Logistic Regression classifiers:-  8.135130900191143\n",
      "Required time for training Naive Bayes classifiers:-  6.066188000142574\n",
      "Required time for training XGBoost classifiers:-  410.9858542000875\n",
      "Required time for training all five classifiers:-  7.769585999893025\n"
     ]
    }
   ],
   "source": [
    "start = timer()\n",
    "svm_tfidf = svm_classifier.fit(tfidf_vectorizer_xtrain, ytrain)\n",
    "print('Required time for training Linear SVM classifiers:- ', timer() - start) \n",
    "start = timer()\n",
    "lr_tfidf = logistic_regression.fit(tfidf_vectorizer_xtrain, ytrain)\n",
    "print('Required time for training Logistic Regression classifiers:- ', timer() - start) \n",
    "start = timer()\n",
    "nb_tfidf = nb_classifier.fit(tfidf_vectorizer_xtrain, ytrain)\n",
    "print('Required time for training Naive Bayes classifiers:- ', timer() - start) \n",
    "start = timer()\n",
    "xgboost_tfidf = xgboost_classifier.fit(tfidf_vectorizer_xtrain, ytrain)\n",
    "print('Required time for training XGBoost classifiers:- ', timer() - start) \n",
    "start = timer()\n",
    "rfc_tfidf = random_forest_classifier.fit(tfidf_vectorizer_xtrain, ytrain)\n",
    "print('Required time for training all five classifiers:- ', timer() - start) "
   ]
  },
  {
   "cell_type": "markdown",
   "metadata": {},
   "source": [
    "# Make predictions\n",
    "Linear SVM"
   ]
  },
  {
   "cell_type": "code",
   "execution_count": 33,
   "metadata": {},
   "outputs": [
    {
     "name": "stdout",
     "output_type": "stream",
     "text": [
      "Required time for SVM prediction:-  0.733775099972263\n"
     ]
    }
   ],
   "source": [
    "start = timer()\n",
    "y_pred_svm, accuracy_svm, precision_svm, recall_svm, f1_svm, report_svm, confusion_matrix_svm = evaluate_model(svm_tfidf, tfidf_vectorizer_xtest, ytest)\n",
    "print('Required time for SVM prediction:- ', timer() - start) "
   ]
  },
  {
   "cell_type": "markdown",
   "metadata": {},
   "source": [
    "Print actual vs. predicted results for LinearSVM"
   ]
  },
  {
   "cell_type": "code",
   "execution_count": 34,
   "metadata": {},
   "outputs": [
    {
     "name": "stdout",
     "output_type": "stream",
     "text": [
      "0 = negative, 1 = positive\n",
      "Actual: 1, SVM Predicted: 0\n",
      "\n",
      "Actual: 0, SVM Predicted: 0\n",
      "\n",
      "Actual: 1, SVM Predicted: 0\n",
      "\n",
      "Actual: 0, SVM Predicted: 0\n",
      "\n",
      "Actual: 1, SVM Predicted: 0\n",
      "\n",
      "Actual: 1, SVM Predicted: 1\n",
      "\n",
      "Actual: 0, SVM Predicted: 1\n",
      "\n",
      "Actual: 1, SVM Predicted: 1\n",
      "\n",
      "Actual: 1, SVM Predicted: 1\n",
      "\n",
      "Actual: 0, SVM Predicted: 0\n",
      "\n",
      "Actual: 1, SVM Predicted: 1\n",
      "\n",
      "Actual: 0, SVM Predicted: 1\n",
      "\n",
      "Actual: 0, SVM Predicted: 0\n",
      "\n",
      "Actual: 1, SVM Predicted: 0\n",
      "\n",
      "Actual: 0, SVM Predicted: 1\n",
      "\n"
     ]
    }
   ],
   "source": [
    "print('0 = negative, 1 = positive')\n",
    "for actual, predicted in zip(ytest[:15], y_pred_svm[:15]):\n",
    "    print(f\"Actual: {actual}, SVM Predicted: {predicted}\")\n",
    "    print()"
   ]
  },
  {
   "cell_type": "code",
   "execution_count": 35,
   "metadata": {},
   "outputs": [
    {
     "name": "stdout",
     "output_type": "stream",
     "text": [
      "LinearSVM Accuracy: 0.68\n",
      "LinearSVM Precision: 0.69\n",
      "LinearSVM Recall: 0.68\n",
      "LinearSVM F1 score: 0.68\n",
      "Classification Report:\n",
      "              precision    recall  f1-score   support\n",
      "\n",
      "           0       0.68      0.69      0.68      4957\n",
      "           1       0.69      0.68      0.68      5043\n",
      "\n",
      "    accuracy                           0.68     10000\n",
      "   macro avg       0.68      0.68      0.68     10000\n",
      "weighted avg       0.68      0.68      0.68     10000\n",
      "\n",
      "Confusion Matrix\n",
      "[[3404 1553]\n",
      " [1621 3422]]\n"
     ]
    }
   ],
   "source": [
    "print(f\"LinearSVM Accuracy: {accuracy_svm:.2f}\")\n",
    "print(f\"LinearSVM Precision: {precision_svm:.2f}\")\n",
    "print(f\"LinearSVM Recall: {recall_svm:.2f}\")\n",
    "print(f\"LinearSVM F1 score: {f1_svm:.2f}\")\n",
    "print(\"Classification Report:\")\n",
    "print(report_svm)\n",
    "print(\"Confusion Matrix\")\n",
    "print(confusion_matrix_svm)"
   ]
  },
  {
   "cell_type": "markdown",
   "metadata": {},
   "source": [
    "# Logistic Regression"
   ]
  },
  {
   "cell_type": "code",
   "execution_count": 36,
   "metadata": {},
   "outputs": [
    {
     "name": "stdout",
     "output_type": "stream",
     "text": [
      "Required time for Logistic Regression prediction:-  0.23029590002261102\n"
     ]
    }
   ],
   "source": [
    "start = timer()\n",
    "y_pred_lr, accuracy_lr, precision_lr, recall_lr, f1_lr, report_lr, cm_lr = evaluate_model(lr_tfidf, tfidf_vectorizer_xtest, ytest)\n",
    "print('Required time for Logistic Regression prediction:- ', timer() - start) "
   ]
  },
  {
   "cell_type": "markdown",
   "metadata": {},
   "source": [
    "Print actual vs. predicted results for Logistic Regression"
   ]
  },
  {
   "cell_type": "code",
   "execution_count": 37,
   "metadata": {},
   "outputs": [
    {
     "name": "stdout",
     "output_type": "stream",
     "text": [
      "0 = negative, 1 = positive\n",
      "Actual: 1, Logistic Regression Predicted: 0\n",
      "\n",
      "Actual: 0, Logistic Regression Predicted: 0\n",
      "\n",
      "Actual: 1, Logistic Regression Predicted: 0\n",
      "\n",
      "Actual: 0, Logistic Regression Predicted: 0\n",
      "\n",
      "Actual: 1, Logistic Regression Predicted: 0\n",
      "\n",
      "Actual: 1, Logistic Regression Predicted: 1\n",
      "\n",
      "Actual: 0, Logistic Regression Predicted: 1\n",
      "\n",
      "Actual: 1, Logistic Regression Predicted: 1\n",
      "\n",
      "Actual: 1, Logistic Regression Predicted: 1\n",
      "\n",
      "Actual: 0, Logistic Regression Predicted: 0\n",
      "\n",
      "Actual: 1, Logistic Regression Predicted: 1\n",
      "\n",
      "Actual: 0, Logistic Regression Predicted: 1\n",
      "\n",
      "Actual: 0, Logistic Regression Predicted: 0\n",
      "\n",
      "Actual: 1, Logistic Regression Predicted: 0\n",
      "\n",
      "Actual: 0, Logistic Regression Predicted: 1\n",
      "\n"
     ]
    }
   ],
   "source": [
    "print('0 = negative, 1 = positive')\n",
    "for actual, predicted in zip(ytest[:15], y_pred_lr[:15]):\n",
    "    print(f\"Actual: {actual}, Logistic Regression Predicted: {predicted}\")\n",
    "    print()"
   ]
  },
  {
   "cell_type": "code",
   "execution_count": 38,
   "metadata": {},
   "outputs": [
    {
     "name": "stdout",
     "output_type": "stream",
     "text": [
      "Logistic Regression Accuracy: 0.70\n",
      "Logistic Regression Precision: 0.70\n",
      "Logistic Regression Recall: 0.70\n",
      "Logistic Regression F1 score: 0.70\n",
      "Classification Report:\n",
      "              precision    recall  f1-score   support\n",
      "\n",
      "           0       0.69      0.70      0.70      4957\n",
      "           1       0.70      0.70      0.70      5043\n",
      "\n",
      "    accuracy                           0.70     10000\n",
      "   macro avg       0.70      0.70      0.70     10000\n",
      "weighted avg       0.70      0.70      0.70     10000\n",
      "\n",
      "Confusion Matrix\n",
      "[[3458 1499]\n",
      " [1529 3514]]\n"
     ]
    }
   ],
   "source": [
    "print(f\"Logistic Regression Accuracy: {accuracy_lr:.2f}\")\n",
    "print(f\"Logistic Regression Precision: {precision_lr:.2f}\")\n",
    "print(f\"Logistic Regression Recall: {recall_lr:.2f}\")\n",
    "print(f\"Logistic Regression F1 score: {f1_lr:.2f}\")\n",
    "print(\"Classification Report:\")\n",
    "print(report_lr)\n",
    "print(\"Confusion Matrix\")\n",
    "print(cm_lr)"
   ]
  },
  {
   "cell_type": "markdown",
   "metadata": {},
   "source": [
    "# Naive bayes"
   ]
  },
  {
   "cell_type": "code",
   "execution_count": 39,
   "metadata": {},
   "outputs": [
    {
     "name": "stdout",
     "output_type": "stream",
     "text": [
      "Required time for Naive Bayes prediction:-  0.2805995000526309\n"
     ]
    }
   ],
   "source": [
    "start = timer()\n",
    "y_pred_nb, accuracy_nb, precision_nb, recall_nb, f1_nb, report_nb, cm_nb = evaluate_model(nb_tfidf, tfidf_vectorizer_xtest, ytest)\n",
    "print('Required time for Naive Bayes prediction:- ', timer() - start) "
   ]
  },
  {
   "cell_type": "markdown",
   "metadata": {},
   "source": [
    "Print actual vs. predicted results for Naive bayes"
   ]
  },
  {
   "cell_type": "code",
   "execution_count": 40,
   "metadata": {},
   "outputs": [
    {
     "name": "stdout",
     "output_type": "stream",
     "text": [
      "0 = negative, 1 = positive\n",
      "Actual: 1, Naive bayes Predicted: 0\n",
      "\n",
      "Actual: 0, Naive bayes Predicted: 0\n",
      "\n",
      "Actual: 1, Naive bayes Predicted: 0\n",
      "\n",
      "Actual: 0, Naive bayes Predicted: 0\n",
      "\n",
      "Actual: 1, Naive bayes Predicted: 0\n",
      "\n",
      "Actual: 1, Naive bayes Predicted: 1\n",
      "\n",
      "Actual: 0, Naive bayes Predicted: 1\n",
      "\n",
      "Actual: 1, Naive bayes Predicted: 0\n",
      "\n",
      "Actual: 1, Naive bayes Predicted: 0\n",
      "\n",
      "Actual: 0, Naive bayes Predicted: 0\n",
      "\n",
      "Actual: 1, Naive bayes Predicted: 1\n",
      "\n",
      "Actual: 0, Naive bayes Predicted: 1\n",
      "\n",
      "Actual: 0, Naive bayes Predicted: 0\n",
      "\n",
      "Actual: 1, Naive bayes Predicted: 0\n",
      "\n",
      "Actual: 0, Naive bayes Predicted: 0\n",
      "\n"
     ]
    }
   ],
   "source": [
    "print('0 = negative, 1 = positive')\n",
    "for actual, predicted in zip(ytest[:15], y_pred_nb[:15]):\n",
    "    print(f\"Actual: {actual}, Naive bayes Predicted: {predicted}\")\n",
    "    print()"
   ]
  },
  {
   "cell_type": "code",
   "execution_count": 41,
   "metadata": {},
   "outputs": [
    {
     "name": "stdout",
     "output_type": "stream",
     "text": [
      "Naive bayes Accuracy: 0.69\n",
      "Naive bayes Precision: 0.71\n",
      "Naive bayes Recall: 0.66\n",
      "Naive bayes F1 score: 0.69\n",
      "Classification Report:\n",
      "              precision    recall  f1-score   support\n",
      "\n",
      "           0       0.68      0.73      0.70      4957\n",
      "           1       0.71      0.66      0.69      5043\n",
      "\n",
      "    accuracy                           0.69     10000\n",
      "   macro avg       0.70      0.69      0.69     10000\n",
      "weighted avg       0.70      0.69      0.69     10000\n",
      "\n",
      "Confusion Matrix:\n",
      "[[3618 1339]\n",
      " [1716 3327]]\n"
     ]
    }
   ],
   "source": [
    "print(f\"Naive bayes Accuracy: {accuracy_nb:.2f}\")\n",
    "print(f\"Naive bayes Precision: {precision_nb:.2f}\")\n",
    "print(f\"Naive bayes Recall: {recall_nb:.2f}\")\n",
    "print(f\"Naive bayes F1 score: {f1_nb:.2f}\")\n",
    "print(\"Classification Report:\")\n",
    "print(report_nb)\n",
    "print(\"Confusion Matrix:\")\n",
    "print(cm_nb)"
   ]
  },
  {
   "cell_type": "markdown",
   "metadata": {},
   "source": [
    "# XGBoost Classifier"
   ]
  },
  {
   "cell_type": "code",
   "execution_count": 42,
   "metadata": {},
   "outputs": [
    {
     "name": "stdout",
     "output_type": "stream",
     "text": [
      "Required time for XGBoost classifier prediction:-  1.5579485998023301\n"
     ]
    }
   ],
   "source": [
    "start = timer()\n",
    "y_pred_xgboost, accuracy_xgboost, precision_xgboost, recall_xgboost, f1_xgboost, report_xgboost, cm_xgboost = evaluate_model(xgboost_tfidf, tfidf_vectorizer_xtest, ytest)\n",
    "print('Required time for XGBoost classifier prediction:- ', timer() - start) "
   ]
  },
  {
   "cell_type": "markdown",
   "metadata": {},
   "source": [
    "Print actual vs. predicted results for XGBoost classifier"
   ]
  },
  {
   "cell_type": "code",
   "execution_count": 43,
   "metadata": {},
   "outputs": [
    {
     "name": "stdout",
     "output_type": "stream",
     "text": [
      "0 = negative, 1 = positive\n",
      "Actual: 1, XGBoost Predicted: 0\n",
      "\n",
      "Actual: 0, XGBoost Predicted: 0\n",
      "\n",
      "Actual: 1, XGBoost Predicted: 1\n",
      "\n",
      "Actual: 0, XGBoost Predicted: 0\n",
      "\n",
      "Actual: 1, XGBoost Predicted: 0\n",
      "\n",
      "Actual: 1, XGBoost Predicted: 1\n",
      "\n",
      "Actual: 0, XGBoost Predicted: 1\n",
      "\n",
      "Actual: 1, XGBoost Predicted: 1\n",
      "\n",
      "Actual: 1, XGBoost Predicted: 1\n",
      "\n",
      "Actual: 0, XGBoost Predicted: 0\n",
      "\n",
      "Actual: 1, XGBoost Predicted: 1\n",
      "\n",
      "Actual: 0, XGBoost Predicted: 0\n",
      "\n",
      "Actual: 0, XGBoost Predicted: 0\n",
      "\n",
      "Actual: 1, XGBoost Predicted: 1\n",
      "\n",
      "Actual: 0, XGBoost Predicted: 1\n",
      "\n"
     ]
    }
   ],
   "source": [
    "print('0 = negative, 1 = positive')\n",
    "for actual, predicted in zip(ytest[:15], y_pred_xgboost[:15]):\n",
    "    print(f\"Actual: {actual}, XGBoost Predicted: {predicted}\")\n",
    "    print()"
   ]
  },
  {
   "cell_type": "code",
   "execution_count": 44,
   "metadata": {},
   "outputs": [
    {
     "name": "stdout",
     "output_type": "stream",
     "text": [
      "XGBoost Accuracy: 0.68\n",
      "XGBoost Precision: 0.68\n",
      "XGBoost Recall: 0.68\n",
      "XGBoost F1 score: 0.68\n",
      "Classification Report:\n",
      "              precision    recall  f1-score   support\n",
      "\n",
      "           0       0.68      0.68      0.68      4957\n",
      "           1       0.68      0.68      0.68      5043\n",
      "\n",
      "    accuracy                           0.68     10000\n",
      "   macro avg       0.68      0.68      0.68     10000\n",
      "weighted avg       0.68      0.68      0.68     10000\n",
      "\n",
      "Confusion Matrix:\n",
      "[[3362 1595]\n",
      " [1613 3430]]\n"
     ]
    }
   ],
   "source": [
    "print(f\"XGBoost Accuracy: {accuracy_xgboost:.2f}\")\n",
    "print(f\"XGBoost Precision: {precision_xgboost:.2f}\")\n",
    "print(f\"XGBoost Recall: {recall_xgboost:.2f}\")\n",
    "print(f\"XGBoost F1 score: {f1_xgboost:.2f}\")\n",
    "print(\"Classification Report:\")\n",
    "print(report_xgboost)\n",
    "print(\"Confusion Matrix:\")\n",
    "print(cm_xgboost)"
   ]
  },
  {
   "cell_type": "markdown",
   "metadata": {},
   "source": [
    "# Random Forest Classifier"
   ]
  },
  {
   "cell_type": "code",
   "execution_count": 45,
   "metadata": {},
   "outputs": [
    {
     "name": "stdout",
     "output_type": "stream",
     "text": [
      "Required time for Random Forest classifier prediction:-  0.19664019998162985\n"
     ]
    }
   ],
   "source": [
    "start = timer()\n",
    "y_pred_rfc, accuracy_rfc, precision_rfc, recall_rfc, f1_rfc, report_rfc, cm_rfc = evaluate_model(rfc_tfidf, tfidf_vectorizer_xtest, ytest)\n",
    "print('Required time for Random Forest classifier prediction:- ', timer() - start) "
   ]
  },
  {
   "cell_type": "markdown",
   "metadata": {},
   "source": [
    "Print actual vs. predicted results for Random Forest classifier"
   ]
  },
  {
   "cell_type": "code",
   "execution_count": 46,
   "metadata": {},
   "outputs": [
    {
     "name": "stdout",
     "output_type": "stream",
     "text": [
      "0 = negative, 1 = positive\n",
      "Actual: 1, Random Forest Predicted: 0\n",
      "\n",
      "Actual: 0, Random Forest Predicted: 0\n",
      "\n",
      "Actual: 1, Random Forest Predicted: 0\n",
      "\n",
      "Actual: 0, Random Forest Predicted: 1\n",
      "\n",
      "Actual: 1, Random Forest Predicted: 1\n",
      "\n",
      "Actual: 1, Random Forest Predicted: 1\n",
      "\n",
      "Actual: 0, Random Forest Predicted: 1\n",
      "\n",
      "Actual: 1, Random Forest Predicted: 0\n",
      "\n",
      "Actual: 1, Random Forest Predicted: 0\n",
      "\n",
      "Actual: 0, Random Forest Predicted: 0\n",
      "\n",
      "Actual: 1, Random Forest Predicted: 1\n",
      "\n",
      "Actual: 0, Random Forest Predicted: 0\n",
      "\n",
      "Actual: 0, Random Forest Predicted: 0\n",
      "\n",
      "Actual: 1, Random Forest Predicted: 0\n",
      "\n",
      "Actual: 0, Random Forest Predicted: 1\n",
      "\n"
     ]
    }
   ],
   "source": [
    "print('0 = negative, 1 = positive')\n",
    "for actual, predicted in zip(ytest[:15], y_pred_rfc[:15]):\n",
    "    print(f\"Actual: {actual}, Random Forest Predicted: {predicted}\")\n",
    "    print()"
   ]
  },
  {
   "cell_type": "code",
   "execution_count": 47,
   "metadata": {},
   "outputs": [
    {
     "name": "stdout",
     "output_type": "stream",
     "text": [
      "Random Forest Accuracy: 0.65\n",
      "Random Forest Precision: 0.66\n",
      "Random Forest Recall: 0.63\n",
      "Random Forest F1 score: 0.64\n",
      "Classification Report:\n",
      "              precision    recall  f1-score   support\n",
      "\n",
      "           0       0.64      0.67      0.65      4957\n",
      "           1       0.66      0.63      0.64      5043\n",
      "\n",
      "    accuracy                           0.65     10000\n",
      "   macro avg       0.65      0.65      0.65     10000\n",
      "weighted avg       0.65      0.65      0.65     10000\n",
      "\n",
      "Confusion Matrix:\n",
      "[[3330 1627]\n",
      " [1889 3154]]\n"
     ]
    }
   ],
   "source": [
    "print(f\"Random Forest Accuracy: {accuracy_rfc:.2f}\")\n",
    "print(f\"Random Forest Precision: {precision_rfc:.2f}\")\n",
    "print(f\"Random Forest Recall: {recall_rfc:.2f}\")\n",
    "print(f\"Random Forest F1 score: {f1_rfc:.2f}\")\n",
    "print(\"Classification Report:\")\n",
    "print(report_rfc)\n",
    "print(\"Confusion Matrix:\")\n",
    "print(cm_rfc)"
   ]
  },
  {
   "cell_type": "markdown",
   "metadata": {},
   "source": [
    "# Display all five models accuracy"
   ]
  },
  {
   "cell_type": "code",
   "execution_count": 48,
   "metadata": {},
   "outputs": [],
   "source": [
    "model_names = ['LinearSVM', 'LogisticRegression', 'NaiveBayes', 'XGBoost', 'RandomForest']\n",
    "model_accuracies = [accuracy_svm, accuracy_lr, accuracy_nb, accuracy_xgboost, accuracy_rfc]"
   ]
  },
  {
   "cell_type": "code",
   "execution_count": 49,
   "metadata": {},
   "outputs": [
    {
     "data": {
      "image/png": "[encoded data removed]",
      "text/plain": [
       "<Figure size 1000x600 with 1 Axes>"
      ]
     },
     "metadata": {},
     "output_type": "display_data"
    }
   ],
   "source": [
    "plt.figure(figsize=(10, 6))\n",
    "plt.bar(model_names, model_accuracies, color=['blue', 'green', 'orange', 'red', 'purple'])\n",
    "plt.xlabel(\"Models\")\n",
    "plt.ylabel(\"Accuracy\")\n",
    "plt.title(\"Model Accuracy Comparison with TFIDF\")\n",
    "plt.ylim(0.0, 1.0)  # Set the y-axis limits\n",
    "plt.grid(axis='y', linestyle='--', alpha=0.7)\n",
    "plt.show()"
   ]
  },
  {
   "cell_type": "markdown",
   "metadata": {},
   "source": [
    "# 2. Universal Sentence Encoder (USE)\n",
    "1. Linear SVM\n",
    "2. Logistic Regression\n",
    "3. XGBoost classifier\n",
    "4. Random Forest classifier\n"
   ]
  },
  {
   "cell_type": "markdown",
   "metadata": {},
   "source": [
    "Load the Universal Sentence Encoder model, and embed this model"
   ]
  },
  {
   "cell_type": "code",
   "execution_count": 50,
   "metadata": {},
   "outputs": [
    {
     "name": "stdout",
     "output_type": "stream",
     "text": [
      "Required time for upload USE from tensorflow hub:-  208.03358459984884\n"
     ]
    }
   ],
   "source": [
    "start = timer()\n",
    "embed = hub.load(\"https://tfhub.dev/google/universal-sentence-encoder/4\")\n",
    "print('Required time for upload USE from tensorflow hub:- ', timer() - start) "
   ]
  },
  {
   "cell_type": "code",
   "execution_count": 51,
   "metadata": {},
   "outputs": [],
   "source": [
    "xtrain_use = []\n",
    "xtest_use = []"
   ]
  },
  {
   "cell_type": "code",
   "execution_count": 52,
   "metadata": {},
   "outputs": [],
   "source": [
    "for i in range(0, len(xtrain), batch_size):\n",
    "    batch_X_train = xtrain[i:i + batch_size]\n",
    "    batch_X_train_use = np.array(embed(batch_X_train))\n",
    "    xtrain_use.extend(batch_X_train_use)"
   ]
  },
  {
   "cell_type": "code",
   "execution_count": 53,
   "metadata": {},
   "outputs": [],
   "source": [
    "for i in range(0, len(xtest), batch_size):\n",
    "    batch_X_test = xtest[i:i + batch_size]\n",
    "    batch_X_test_use = np.array(embed(batch_X_test))\n",
    "    xtest_use.extend(batch_X_test_use)"
   ]
  },
  {
   "cell_type": "markdown",
   "metadata": {},
   "source": [
    "Fit classifiers"
   ]
  },
  {
   "cell_type": "code",
   "execution_count": 54,
   "metadata": {},
   "outputs": [
    {
     "name": "stdout",
     "output_type": "stream",
     "text": [
      "Required time for training Linear SVM classifier:-  2.908329199999571\n",
      "Required time for training Logistic Regression:-  2.7131124997977167\n",
      "Required time for training XGBoost classifier:-  277.91041409992613\n",
      "Required time for training all Random Forest classifier:-  11.214264699956402\n"
     ]
    }
   ],
   "source": [
    "start = timer()\n",
    "svm_use = svm_classifier.fit(xtrain_use, ytrain)\n",
    "print('Required time for training Linear SVM classifier:- ', timer() - start) \n",
    "start = timer()\n",
    "lr_use = logistic_regression.fit(xtrain_use, ytrain)\n",
    "print('Required time for training Logistic Regression:- ', timer() - start)  \n",
    "start = timer()\n",
    "xgboost_use = xgboost_classifier.fit(xtrain_use, ytrain)\n",
    "print('Required time for training XGBoost classifier:- ', timer() - start) \n",
    "start = timer()\n",
    "rfc_use = random_forest_classifier.fit(xtrain_use, ytrain)\n",
    "print('Required time for training all Random Forest classifier:- ', timer() - start) "
   ]
  },
  {
   "cell_type": "markdown",
   "metadata": {},
   "source": [
    "# Make predictions\n",
    "Linear SVM"
   ]
  },
  {
   "cell_type": "code",
   "execution_count": 55,
   "metadata": {},
   "outputs": [],
   "source": [
    "y_pred_svm_use, accuracy_svm_use, precision_svm_use, recall_svm_use, f1_svm_use, report_svm_use, cm_svm_use = evaluate_model(svm_use, xtest_use, ytest)\n"
   ]
  },
  {
   "cell_type": "markdown",
   "metadata": {},
   "source": [
    "Print actual vs. predicted results for LinearSVM with USE"
   ]
  },
  {
   "cell_type": "code",
   "execution_count": 56,
   "metadata": {},
   "outputs": [
    {
     "name": "stdout",
     "output_type": "stream",
     "text": [
      "0 = negative, 1 = positive\n",
      "Actual: 1, SVM with USE embedding Predicted: 1\n",
      "\n",
      "Actual: 0, SVM with USE embedding Predicted: 0\n",
      "\n",
      "Actual: 1, SVM with USE embedding Predicted: 1\n",
      "\n",
      "Actual: 0, SVM with USE embedding Predicted: 0\n",
      "\n",
      "Actual: 1, SVM with USE embedding Predicted: 0\n",
      "\n",
      "Actual: 1, SVM with USE embedding Predicted: 1\n",
      "\n",
      "Actual: 0, SVM with USE embedding Predicted: 1\n",
      "\n",
      "Actual: 1, SVM with USE embedding Predicted: 1\n",
      "\n",
      "Actual: 1, SVM with USE embedding Predicted: 1\n",
      "\n",
      "Actual: 0, SVM with USE embedding Predicted: 0\n",
      "\n",
      "Actual: 1, SVM with USE embedding Predicted: 0\n",
      "\n",
      "Actual: 0, SVM with USE embedding Predicted: 0\n",
      "\n",
      "Actual: 0, SVM with USE embedding Predicted: 0\n",
      "\n",
      "Actual: 1, SVM with USE embedding Predicted: 1\n",
      "\n",
      "Actual: 0, SVM with USE embedding Predicted: 0\n",
      "\n"
     ]
    }
   ],
   "source": [
    "print('0 = negative, 1 = positive')\n",
    "for actual, predicted in zip(ytest[:15], y_pred_svm_use[:15]):\n",
    "    print(f\"Actual: {actual}, SVM with USE embedding Predicted: {predicted}\")\n",
    "    print()"
   ]
  },
  {
   "cell_type": "code",
   "execution_count": 57,
   "metadata": {},
   "outputs": [
    {
     "name": "stdout",
     "output_type": "stream",
     "text": [
      "LinearSVM (USE) Accuracy: 0.83\n",
      "LinearSVM (USE) Precision: 0.84\n",
      "LinearSVM (USE) Recall: 0.83\n",
      "LinearSVM (USE) F1 score: 0.83\n",
      "Classification Report:\n",
      "              precision    recall  f1-score   support\n",
      "\n",
      "           0       0.83      0.84      0.83      4957\n",
      "           1       0.84      0.83      0.83      5043\n",
      "\n",
      "    accuracy                           0.83     10000\n",
      "   macro avg       0.83      0.83      0.83     10000\n",
      "weighted avg       0.83      0.83      0.83     10000\n",
      "\n",
      "Confusion Matrix\n",
      "[[4149  808]\n",
      " [ 851 4192]]\n"
     ]
    }
   ],
   "source": [
    "print(f\"LinearSVM (USE) Accuracy: {accuracy_svm_use:.2f}\")\n",
    "print(f\"LinearSVM (USE) Precision: {precision_svm_use:.2f}\")\n",
    "print(f\"LinearSVM (USE) Recall: {recall_svm_use:.2f}\")\n",
    "print(f\"LinearSVM (USE) F1 score: {f1_svm_use:.2f}\")\n",
    "print(\"Classification Report:\")\n",
    "print(report_svm_use)\n",
    "print(\"Confusion Matrix\")\n",
    "print(cm_svm_use)"
   ]
  },
  {
   "cell_type": "markdown",
   "metadata": {},
   "source": [
    "# Logitic Regression"
   ]
  },
  {
   "cell_type": "code",
   "execution_count": 58,
   "metadata": {},
   "outputs": [],
   "source": [
    "y_pred_lr_use, accuracy_lr_use, precision_lr_use, recall_lr_use, f1_lr_use, report_lr_use, cm_lr_use = evaluate_model(lr_use, xtest_use, ytest)\n"
   ]
  },
  {
   "cell_type": "markdown",
   "metadata": {},
   "source": [
    "Print actual vs. predicted results for Logistic Regression with USE\n"
   ]
  },
  {
   "cell_type": "code",
   "execution_count": 59,
   "metadata": {},
   "outputs": [
    {
     "name": "stdout",
     "output_type": "stream",
     "text": [
      "0 = negative, 1 = positive\n",
      "Actual: 1, Logistic Regression Predicted with USE: 1\n",
      "\n",
      "Actual: 0, Logistic Regression Predicted with USE: 0\n",
      "\n",
      "Actual: 1, Logistic Regression Predicted with USE: 1\n",
      "\n",
      "Actual: 0, Logistic Regression Predicted with USE: 0\n",
      "\n",
      "Actual: 1, Logistic Regression Predicted with USE: 0\n",
      "\n",
      "Actual: 1, Logistic Regression Predicted with USE: 1\n",
      "\n",
      "Actual: 0, Logistic Regression Predicted with USE: 1\n",
      "\n",
      "Actual: 1, Logistic Regression Predicted with USE: 1\n",
      "\n",
      "Actual: 1, Logistic Regression Predicted with USE: 1\n",
      "\n",
      "Actual: 0, Logistic Regression Predicted with USE: 0\n",
      "\n",
      "Actual: 1, Logistic Regression Predicted with USE: 1\n",
      "\n",
      "Actual: 0, Logistic Regression Predicted with USE: 0\n",
      "\n",
      "Actual: 0, Logistic Regression Predicted with USE: 0\n",
      "\n",
      "Actual: 1, Logistic Regression Predicted with USE: 1\n",
      "\n",
      "Actual: 0, Logistic Regression Predicted with USE: 0\n",
      "\n"
     ]
    }
   ],
   "source": [
    "print('0 = negative, 1 = positive')\n",
    "for actual, predicted in zip(ytest[:15], y_pred_lr_use[:15]):\n",
    "    print(f\"Actual: {actual}, Logistic Regression Predicted with USE: {predicted}\")\n",
    "    print()"
   ]
  },
  {
   "cell_type": "markdown",
   "metadata": {},
   "source": [
    "# XGBoost Classifier"
   ]
  },
  {
   "cell_type": "code",
   "execution_count": 60,
   "metadata": {},
   "outputs": [],
   "source": [
    "y_pred_xgboost_use, accuracy_xgboost_use, precision_xgboost_use, recall_xgboost_use, f1_xgboost_use, report_xgboost_use, cm_xgboost_use = evaluate_model(xgboost_use, xtest_use, ytest)\n"
   ]
  },
  {
   "cell_type": "markdown",
   "metadata": {},
   "source": [
    "Print actual vs. predicted results for XGBooost classifier with USE\n"
   ]
  },
  {
   "cell_type": "code",
   "execution_count": 61,
   "metadata": {},
   "outputs": [
    {
     "name": "stdout",
     "output_type": "stream",
     "text": [
      "0 = negative, 1 = positive\n",
      "Actual: 1, XGBoost with USE Predicted: 1\n",
      "\n",
      "Actual: 0, XGBoost with USE Predicted: 0\n",
      "\n",
      "Actual: 1, XGBoost with USE Predicted: 1\n",
      "\n",
      "Actual: 0, XGBoost with USE Predicted: 0\n",
      "\n",
      "Actual: 1, XGBoost with USE Predicted: 0\n",
      "\n",
      "Actual: 1, XGBoost with USE Predicted: 1\n",
      "\n",
      "Actual: 0, XGBoost with USE Predicted: 1\n",
      "\n",
      "Actual: 1, XGBoost with USE Predicted: 1\n",
      "\n",
      "Actual: 1, XGBoost with USE Predicted: 1\n",
      "\n",
      "Actual: 0, XGBoost with USE Predicted: 0\n",
      "\n",
      "Actual: 1, XGBoost with USE Predicted: 0\n",
      "\n",
      "Actual: 0, XGBoost with USE Predicted: 0\n",
      "\n",
      "Actual: 0, XGBoost with USE Predicted: 0\n",
      "\n",
      "Actual: 1, XGBoost with USE Predicted: 1\n",
      "\n",
      "Actual: 0, XGBoost with USE Predicted: 0\n",
      "\n"
     ]
    }
   ],
   "source": [
    "print('0 = negative, 1 = positive')\n",
    "for actual, predicted in zip(ytest[:15], y_pred_xgboost_use[:15]):\n",
    "    print(f\"Actual: {actual}, XGBoost with USE Predicted: {predicted}\")\n",
    "    print()"
   ]
  },
  {
   "cell_type": "code",
   "execution_count": 62,
   "metadata": {},
   "outputs": [
    {
     "name": "stdout",
     "output_type": "stream",
     "text": [
      "XGBoost (USE) Accuracy: 0.82\n",
      "XGBoost (USE) Precision: 0.83\n",
      "XGBoost (USE) Recall: 0.82\n",
      "XGBoost (USE) F1 score: 0.82\n",
      "Classification Report:\n",
      "              precision    recall  f1-score   support\n",
      "\n",
      "           0       0.82      0.82      0.82      4957\n",
      "           1       0.83      0.82      0.82      5043\n",
      "\n",
      "    accuracy                           0.82     10000\n",
      "   macro avg       0.82      0.82      0.82     10000\n",
      "weighted avg       0.82      0.82      0.82     10000\n",
      "\n",
      "Confusion Matrix:\n",
      "[[4087  870]\n",
      " [ 912 4131]]\n"
     ]
    }
   ],
   "source": [
    "print(f\"XGBoost (USE) Accuracy: {accuracy_xgboost_use:.2f}\")\n",
    "print(f\"XGBoost (USE) Precision: {precision_xgboost_use:.2f}\")\n",
    "print(f\"XGBoost (USE) Recall: {recall_xgboost_use:.2f}\")\n",
    "print(f\"XGBoost (USE) F1 score: {f1_xgboost_use:.2f}\")\n",
    "print(\"Classification Report:\")\n",
    "print(report_xgboost_use)\n",
    "print(\"Confusion Matrix:\")\n",
    "print(cm_xgboost_use)"
   ]
  },
  {
   "cell_type": "markdown",
   "metadata": {},
   "source": [
    "# Random Forest Classifier"
   ]
  },
  {
   "cell_type": "code",
   "execution_count": 63,
   "metadata": {},
   "outputs": [],
   "source": [
    "y_pred_rfc_use, accuracy_rfc_use, precision_rfc_use, recall_rfc_use, f1_rfc_use, report_rfc_use, cm_rfc_use = evaluate_model(rfc_use, xtest_use, ytest)\n"
   ]
  },
  {
   "cell_type": "markdown",
   "metadata": {},
   "source": [
    "Print actual vs. predicted results for Random Forest classifier with USE\n"
   ]
  },
  {
   "cell_type": "code",
   "execution_count": 64,
   "metadata": {},
   "outputs": [
    {
     "name": "stdout",
     "output_type": "stream",
     "text": [
      "0 = negative, 1 = positive\n",
      "Actual: 1, Random Forest with USE Predicted: 1\n",
      "\n",
      "Actual: 0, Random Forest with USE Predicted: 0\n",
      "\n",
      "Actual: 1, Random Forest with USE Predicted: 1\n",
      "\n",
      "Actual: 0, Random Forest with USE Predicted: 0\n",
      "\n",
      "Actual: 1, Random Forest with USE Predicted: 0\n",
      "\n",
      "Actual: 1, Random Forest with USE Predicted: 1\n",
      "\n",
      "Actual: 0, Random Forest with USE Predicted: 1\n",
      "\n",
      "Actual: 1, Random Forest with USE Predicted: 0\n",
      "\n",
      "Actual: 1, Random Forest with USE Predicted: 0\n",
      "\n",
      "Actual: 0, Random Forest with USE Predicted: 0\n",
      "\n",
      "Actual: 1, Random Forest with USE Predicted: 1\n",
      "\n",
      "Actual: 0, Random Forest with USE Predicted: 0\n",
      "\n",
      "Actual: 0, Random Forest with USE Predicted: 0\n",
      "\n",
      "Actual: 1, Random Forest with USE Predicted: 1\n",
      "\n",
      "Actual: 0, Random Forest with USE Predicted: 0\n",
      "\n"
     ]
    }
   ],
   "source": [
    "print('0 = negative, 1 = positive')\n",
    "for actual, predicted in zip(ytest[:15], y_pred_rfc_use[:15]):\n",
    "    print(f\"Actual: {actual}, Random Forest with USE Predicted: {predicted}\")\n",
    "    print()"
   ]
  },
  {
   "cell_type": "code",
   "execution_count": 65,
   "metadata": {},
   "outputs": [
    {
     "name": "stdout",
     "output_type": "stream",
     "text": [
      "Random Forest (USE) Accuracy: 0.78\n",
      "Random Forest (USE) Precision: 0.80\n",
      "Random Forest (USE) Recall: 0.75\n",
      "Random Forest (USE) F1 score: 0.77\n",
      "Classification Report:\n",
      "              precision    recall  f1-score   support\n",
      "\n",
      "           0       0.76      0.80      0.78      4957\n",
      "           1       0.80      0.75      0.77      5043\n",
      "\n",
      "    accuracy                           0.78     10000\n",
      "   macro avg       0.78      0.78      0.78     10000\n",
      "weighted avg       0.78      0.78      0.78     10000\n",
      "\n",
      "Confusion Matrix:\n",
      "[[3984  973]\n",
      " [1247 3796]]\n"
     ]
    }
   ],
   "source": [
    "print(f\"Random Forest (USE) Accuracy: {accuracy_rfc_use:.2f}\")\n",
    "print(f\"Random Forest (USE) Precision: {precision_rfc_use:.2f}\")\n",
    "print(f\"Random Forest (USE) Recall: {recall_rfc_use:.2f}\")\n",
    "print(f\"Random Forest (USE) F1 score: {f1_rfc_use:.2f}\")\n",
    "print(\"Classification Report:\")\n",
    "print(report_rfc_use)\n",
    "print(\"Confusion Matrix:\")\n",
    "print(cm_rfc_use)"
   ]
  },
  {
   "cell_type": "markdown",
   "metadata": {},
   "source": [
    "# Display all four models accuracy\n",
    "(--Note: Naive bayes (MultinomialNB) model not used with USE embedding because it not able to resolve the issue of negative values)"
   ]
  },
  {
   "cell_type": "code",
   "execution_count": 66,
   "metadata": {},
   "outputs": [],
   "source": [
    "model_names = ['LinearSVM', 'LogisticRegression', 'XGBoost', 'RandomForest']\n",
    "model_accuracies = [accuracy_svm_use, accuracy_lr_use, accuracy_xgboost_use, accuracy_rfc_use]"
   ]
  },
  {
   "cell_type": "code",
   "execution_count": 67,
   "metadata": {},
   "outputs": [
    {
     "data": {
      "image/png": "[encoded data removed]",
      "text/plain": [
       "<Figure size 1000x600 with 1 Axes>"
      ]
     },
     "metadata": {},
     "output_type": "display_data"
    }
   ],
   "source": [
    "plt.figure(figsize=(10, 6))\n",
    "plt.bar(model_names, model_accuracies, color=['blue', 'orange', 'red', 'purple'])\n",
    "plt.xlabel(\"Models\")\n",
    "plt.ylabel(\"Accuracy\")\n",
    "plt.title(\"Model Accuracy Comparison with USE\")\n",
    "plt.ylim(0.0, 1.0)  # Set the y-axis limits\n",
    "plt.grid(axis='y', linestyle='--', alpha=0.7)\n",
    "plt.show()"
   ]
  },
  {
   "cell_type": "markdown",
   "metadata": {},
   "source": [
    "# TF-IDF + Universal Sentence Encoder (USE)\n",
    "1. Linear SVM\n",
    "2. Logistic Regression\n",
    "3. XGBoost classifier\n",
    "4. Random Forest classifier"
   ]
  },
  {
   "cell_type": "markdown",
   "metadata": {},
   "source": [
    "# Combine TF-IDF and Universal Sentence Encoder embeddings\n"
   ]
  },
  {
   "cell_type": "code",
   "execution_count": 68,
   "metadata": {},
   "outputs": [],
   "source": [
    "xtrain_tfidf_use_combined = tf.concat([tfidf_vectorizer_xtrain, xtrain_use], axis=1)\n",
    "xtest_tfidf_use_combined = tf.concat([tfidf_vectorizer_xtest, xtest_use], axis=1)"
   ]
  },
  {
   "cell_type": "markdown",
   "metadata": {},
   "source": [
    "Fit classifiers"
   ]
  },
  {
   "cell_type": "code",
   "execution_count": 69,
   "metadata": {},
   "outputs": [
    {
     "name": "stdout",
     "output_type": "stream",
     "text": [
      "Required time for training Linear SVM:-  5.443469000048935\n",
      "Required time for training Logistic Regression:-  25.354179200017825\n",
      "Required time for training XGBoost classifier:-  657.5391903999262\n",
      "Required time for training Random Forest classifier:-  10.445348299806938\n"
     ]
    }
   ],
   "source": [
    "start = timer()\n",
    "svm_tfidf_use = svm_classifier.fit(xtrain_tfidf_use_combined, ytrain)\n",
    "print('Required time for training Linear SVM:- ', timer() - start) \n",
    "start = timer()\n",
    "lr_tfidf_use = logistic_regression.fit(xtrain_tfidf_use_combined, ytrain)\n",
    "print('Required time for training Logistic Regression:- ', timer() - start)\n",
    "start = timer()\n",
    "xgboost_tfidf_use = xgboost_classifier.fit(xtrain_tfidf_use_combined, ytrain)\n",
    "print('Required time for training XGBoost classifier:- ', timer() - start)\n",
    "start = timer()\n",
    "rfc_tfidf_use = random_forest_classifier.fit(xtrain_tfidf_use_combined, ytrain)\n",
    "print('Required time for training Random Forest classifier:- ', timer() - start) "
   ]
  },
  {
   "cell_type": "markdown",
   "metadata": {},
   "source": [
    "# Make predictions\n",
    "Linear SVM"
   ]
  },
  {
   "cell_type": "code",
   "execution_count": 70,
   "metadata": {},
   "outputs": [],
   "source": [
    "y_pred_svm_tfidf_use, accuracy_svm_tfidf_use, precision_svm_tfidf_use, recall_svm_tfidf_use, f1_svm_tfidf_use, report_svm_tfidf_use, cm_svm_tfidf_use = evaluate_model(svm_tfidf_use, xtest_tfidf_use_combined, ytest)\n"
   ]
  },
  {
   "cell_type": "markdown",
   "metadata": {},
   "source": [
    "# Print actual vs. predicted results for Linear SVM with TFIDF + USE\n"
   ]
  },
  {
   "cell_type": "code",
   "execution_count": 71,
   "metadata": {},
   "outputs": [
    {
     "name": "stdout",
     "output_type": "stream",
     "text": [
      "0 = negative, 1 = positive\n",
      "Actual: 1, SVM with TFIDF+USE Predicted: 1\n",
      "\n",
      "Actual: 0, SVM with TFIDF+USE Predicted: 0\n",
      "\n",
      "Actual: 1, SVM with TFIDF+USE Predicted: 1\n",
      "\n",
      "Actual: 0, SVM with TFIDF+USE Predicted: 0\n",
      "\n",
      "Actual: 1, SVM with TFIDF+USE Predicted: 0\n",
      "\n",
      "Actual: 1, SVM with TFIDF+USE Predicted: 1\n",
      "\n",
      "Actual: 0, SVM with TFIDF+USE Predicted: 1\n",
      "\n",
      "Actual: 1, SVM with TFIDF+USE Predicted: 1\n",
      "\n",
      "Actual: 1, SVM with TFIDF+USE Predicted: 1\n",
      "\n",
      "Actual: 0, SVM with TFIDF+USE Predicted: 0\n",
      "\n",
      "Actual: 1, SVM with TFIDF+USE Predicted: 1\n",
      "\n",
      "Actual: 0, SVM with TFIDF+USE Predicted: 0\n",
      "\n",
      "Actual: 0, SVM with TFIDF+USE Predicted: 0\n",
      "\n",
      "Actual: 1, SVM with TFIDF+USE Predicted: 1\n",
      "\n",
      "Actual: 0, SVM with TFIDF+USE Predicted: 0\n",
      "\n"
     ]
    }
   ],
   "source": [
    "print('0 = negative, 1 = positive')\n",
    "for actual, predicted in zip(ytest[:15], y_pred_svm_tfidf_use[:15]):\n",
    "    print(f\"Actual: {actual}, SVM with TFIDF+USE Predicted: {predicted}\")\n",
    "    print()"
   ]
  },
  {
   "cell_type": "code",
   "execution_count": 72,
   "metadata": {},
   "outputs": [
    {
     "name": "stdout",
     "output_type": "stream",
     "text": [
      "LinearSVM (TFIDF+USE) Accuracy: 0.82\n",
      "LinearSVM (TFIDF+USE) Precision: 0.82\n",
      "LinearSVM (TFIDF+USE) Recall: 0.81\n",
      "LinearSVM (TFIDF+USE) F1 score: 0.82\n",
      "Classification Report:\n",
      "              precision    recall  f1-score   support\n",
      "\n",
      "           0       0.81      0.82      0.82      4957\n",
      "           1       0.82      0.81      0.82      5043\n",
      "\n",
      "    accuracy                           0.82     10000\n",
      "   macro avg       0.82      0.82      0.82     10000\n",
      "weighted avg       0.82      0.82      0.82     10000\n",
      "\n",
      "Confusion Matrix\n",
      "[[4080  877]\n",
      " [ 950 4093]]\n"
     ]
    }
   ],
   "source": [
    "print(f\"LinearSVM (TFIDF+USE) Accuracy: {accuracy_svm_tfidf_use:.2f}\")\n",
    "print(f\"LinearSVM (TFIDF+USE) Precision: {precision_svm_tfidf_use:.2f}\")\n",
    "print(f\"LinearSVM (TFIDF+USE) Recall: {recall_svm_tfidf_use:.2f}\")\n",
    "print(f\"LinearSVM (TFIDF+USE) F1 score: {f1_svm_tfidf_use:.2f}\")\n",
    "print(\"Classification Report:\")\n",
    "print(report_svm_tfidf_use)\n",
    "print(\"Confusion Matrix\")\n",
    "print(cm_svm_tfidf_use)"
   ]
  },
  {
   "cell_type": "markdown",
   "metadata": {},
   "source": [
    "# Logistic Regression"
   ]
  },
  {
   "cell_type": "code",
   "execution_count": 73,
   "metadata": {},
   "outputs": [],
   "source": [
    "y_pred_lr_tfidf_use, accuracy_lr_tfidf_use, precision_lr_tfidf_use, recall_lr_tfidf_use, f1_lr_tfidf_use, report_lr_tfidf_use, cm_lr_tfidf_use = evaluate_model(lr_tfidf_use, xtest_tfidf_use_combined, ytest)\n"
   ]
  },
  {
   "cell_type": "markdown",
   "metadata": {},
   "source": [
    "# Print actual vs. predicted results for Logistic Regression with TFIDF + USE\n"
   ]
  },
  {
   "cell_type": "code",
   "execution_count": 74,
   "metadata": {},
   "outputs": [
    {
     "name": "stdout",
     "output_type": "stream",
     "text": [
      "0 = negative, 1 = positive\n",
      "Actual: 1, LR with TFIDF+USE embedding Predicted: 1\n",
      "\n",
      "Actual: 0, LR with TFIDF+USE embedding Predicted: 0\n",
      "\n",
      "Actual: 1, LR with TFIDF+USE embedding Predicted: 1\n",
      "\n",
      "Actual: 0, LR with TFIDF+USE embedding Predicted: 0\n",
      "\n",
      "Actual: 1, LR with TFIDF+USE embedding Predicted: 0\n",
      "\n",
      "Actual: 1, LR with TFIDF+USE embedding Predicted: 1\n",
      "\n",
      "Actual: 0, LR with TFIDF+USE embedding Predicted: 1\n",
      "\n",
      "Actual: 1, LR with TFIDF+USE embedding Predicted: 1\n",
      "\n",
      "Actual: 1, LR with TFIDF+USE embedding Predicted: 1\n",
      "\n",
      "Actual: 0, LR with TFIDF+USE embedding Predicted: 0\n",
      "\n",
      "Actual: 1, LR with TFIDF+USE embedding Predicted: 1\n",
      "\n",
      "Actual: 0, LR with TFIDF+USE embedding Predicted: 0\n",
      "\n",
      "Actual: 0, LR with TFIDF+USE embedding Predicted: 0\n",
      "\n",
      "Actual: 1, LR with TFIDF+USE embedding Predicted: 1\n",
      "\n",
      "Actual: 0, LR with TFIDF+USE embedding Predicted: 0\n",
      "\n"
     ]
    }
   ],
   "source": [
    "print('0 = negative, 1 = positive')\n",
    "for actual, predicted in zip(ytest[:15], y_pred_lr_tfidf_use[:15]):\n",
    "    print(f\"Actual: {actual}, LR with TFIDF+USE embedding Predicted: {predicted}\")\n",
    "    print()"
   ]
  },
  {
   "cell_type": "code",
   "execution_count": 75,
   "metadata": {},
   "outputs": [
    {
     "name": "stdout",
     "output_type": "stream",
     "text": [
      "Logistic Regression (TFIDF+USE) Accuracy: 0.83\n",
      "Logistic Regression (TFIDF+USE) Precision: 0.84\n",
      "Logistic Regression (TFIDF+USE) Recall: 0.83\n",
      "Logistic Regression (TFIDF+USE) F1 score: 0.83\n",
      "Classification Report:\n",
      "              precision    recall  f1-score   support\n",
      "\n",
      "           0       0.83      0.83      0.83      4957\n",
      "           1       0.84      0.83      0.83      5043\n",
      "\n",
      "    accuracy                           0.83     10000\n",
      "   macro avg       0.83      0.83      0.83     10000\n",
      "weighted avg       0.83      0.83      0.83     10000\n",
      "\n",
      "Confusion Matrix\n",
      "[[4131  826]\n",
      " [ 850 4193]]\n"
     ]
    }
   ],
   "source": [
    "print(f\"Logistic Regression (TFIDF+USE) Accuracy: {accuracy_lr_tfidf_use:.2f}\")\n",
    "print(f\"Logistic Regression (TFIDF+USE) Precision: {precision_lr_tfidf_use:.2f}\")\n",
    "print(f\"Logistic Regression (TFIDF+USE) Recall: {recall_lr_tfidf_use:.2f}\")\n",
    "print(f\"Logistic Regression (TFIDF+USE) F1 score: {f1_lr_tfidf_use:.2f}\")\n",
    "print(\"Classification Report:\")\n",
    "print(report_lr_tfidf_use)\n",
    "print(\"Confusion Matrix\")\n",
    "print(cm_lr_tfidf_use)"
   ]
  },
  {
   "cell_type": "markdown",
   "metadata": {},
   "source": [
    "# XGBoost Classifier"
   ]
  },
  {
   "cell_type": "code",
   "execution_count": 76,
   "metadata": {},
   "outputs": [],
   "source": [
    "y_pred_xgb_tfidf_use, accuracy_xgb_tfidf_use, precision_xgb_tfidf_use, recall_xgb_tfidf_use, f1_xgb_tfidf_use, report_xgb_tfidf_use, cm_xgb_tfidf_use = evaluate_model(xgboost_tfidf_use, xtest_tfidf_use_combined, ytest)\n"
   ]
  },
  {
   "cell_type": "markdown",
   "metadata": {},
   "source": [
    "# Print actual vs. predicted results for XGBoost with TFIDF + USE\n"
   ]
  },
  {
   "cell_type": "code",
   "execution_count": 77,
   "metadata": {},
   "outputs": [
    {
     "name": "stdout",
     "output_type": "stream",
     "text": [
      "0 = negative, 1 = positive\n",
      "Actual: 1, XGBoost with TFIDF+USE embedding Predicted: 1\n",
      "\n",
      "Actual: 0, XGBoost with TFIDF+USE embedding Predicted: 0\n",
      "\n",
      "Actual: 1, XGBoost with TFIDF+USE embedding Predicted: 1\n",
      "\n",
      "Actual: 0, XGBoost with TFIDF+USE embedding Predicted: 0\n",
      "\n",
      "Actual: 1, XGBoost with TFIDF+USE embedding Predicted: 0\n",
      "\n",
      "Actual: 1, XGBoost with TFIDF+USE embedding Predicted: 1\n",
      "\n",
      "Actual: 0, XGBoost with TFIDF+USE embedding Predicted: 1\n",
      "\n",
      "Actual: 1, XGBoost with TFIDF+USE embedding Predicted: 0\n",
      "\n",
      "Actual: 1, XGBoost with TFIDF+USE embedding Predicted: 1\n",
      "\n",
      "Actual: 0, XGBoost with TFIDF+USE embedding Predicted: 0\n",
      "\n",
      "Actual: 1, XGBoost with TFIDF+USE embedding Predicted: 1\n",
      "\n",
      "Actual: 0, XGBoost with TFIDF+USE embedding Predicted: 0\n",
      "\n",
      "Actual: 0, XGBoost with TFIDF+USE embedding Predicted: 0\n",
      "\n",
      "Actual: 1, XGBoost with TFIDF+USE embedding Predicted: 1\n",
      "\n",
      "Actual: 0, XGBoost with TFIDF+USE embedding Predicted: 0\n",
      "\n"
     ]
    }
   ],
   "source": [
    "print('0 = negative, 1 = positive')\n",
    "for actual, predicted in zip(ytest[:15], y_pred_xgb_tfidf_use[:15]):\n",
    "    print(f\"Actual: {actual}, XGBoost with TFIDF+USE embedding Predicted: {predicted}\")\n",
    "    print()"
   ]
  },
  {
   "cell_type": "code",
   "execution_count": 78,
   "metadata": {},
   "outputs": [
    {
     "name": "stdout",
     "output_type": "stream",
     "text": [
      "XGBoost (TFIDF+USE) Accuracy: 0.82\n",
      "XGBoost (TFIDF+USE) Precision: 0.82\n",
      "XGBoost (TFIDF+USE) Recall: 0.83\n",
      "XGBoost (TFIDF+USE) F1 score: 0.82\n",
      "Classification Report:\n",
      "              precision    recall  f1-score   support\n",
      "\n",
      "           0       0.82      0.82      0.82      4957\n",
      "           1       0.82      0.83      0.82      5043\n",
      "\n",
      "    accuracy                           0.82     10000\n",
      "   macro avg       0.82      0.82      0.82     10000\n",
      "weighted avg       0.82      0.82      0.82     10000\n",
      "\n",
      "Confusion Matrix:\n",
      "[[4042  915]\n",
      " [ 869 4174]]\n"
     ]
    }
   ],
   "source": [
    "print(f\"XGBoost (TFIDF+USE) Accuracy: {accuracy_xgb_tfidf_use:.2f}\")\n",
    "print(f\"XGBoost (TFIDF+USE) Precision: {precision_xgb_tfidf_use:.2f}\")\n",
    "print(f\"XGBoost (TFIDF+USE) Recall: {recall_xgb_tfidf_use:.2f}\")\n",
    "print(f\"XGBoost (TFIDF+USE) F1 score: {f1_xgb_tfidf_use:.2f}\")\n",
    "print(\"Classification Report:\")\n",
    "print(report_xgb_tfidf_use)\n",
    "print(\"Confusion Matrix:\")\n",
    "print(cm_xgb_tfidf_use)"
   ]
  },
  {
   "cell_type": "markdown",
   "metadata": {},
   "source": [
    "# Random Forest classifier"
   ]
  },
  {
   "cell_type": "code",
   "execution_count": 79,
   "metadata": {},
   "outputs": [],
   "source": [
    "y_pred_rfc_tfidf_use, accuracy_rfc_tfidf_use, precision_rfc_tfidf_use, recall_rfc_tfidf_use, f1_rfc_tfidf_use, report_rfc_tfidf_use, cm_rfc_tfidf_use = evaluate_model(rfc_tfidf_use, xtest_tfidf_use_combined, ytest)\n"
   ]
  },
  {
   "cell_type": "markdown",
   "metadata": {},
   "source": [
    "# Print actual vs. predicted results for Random Forest with TFIDF + USE"
   ]
  },
  {
   "cell_type": "code",
   "execution_count": 80,
   "metadata": {},
   "outputs": [
    {
     "name": "stdout",
     "output_type": "stream",
     "text": [
      "0 = negative, 1 = positive\n",
      "Actual: 1, RFC with TFIDF+USE embedding Predicted: 1\n",
      "\n",
      "Actual: 0, RFC with TFIDF+USE embedding Predicted: 0\n",
      "\n",
      "Actual: 1, RFC with TFIDF+USE embedding Predicted: 1\n",
      "\n",
      "Actual: 0, RFC with TFIDF+USE embedding Predicted: 0\n",
      "\n",
      "Actual: 1, RFC with TFIDF+USE embedding Predicted: 0\n",
      "\n",
      "Actual: 1, RFC with TFIDF+USE embedding Predicted: 1\n",
      "\n",
      "Actual: 0, RFC with TFIDF+USE embedding Predicted: 1\n",
      "\n",
      "Actual: 1, RFC with TFIDF+USE embedding Predicted: 0\n",
      "\n",
      "Actual: 1, RFC with TFIDF+USE embedding Predicted: 0\n",
      "\n",
      "Actual: 0, RFC with TFIDF+USE embedding Predicted: 0\n",
      "\n",
      "Actual: 1, RFC with TFIDF+USE embedding Predicted: 1\n",
      "\n",
      "Actual: 0, RFC with TFIDF+USE embedding Predicted: 0\n",
      "\n",
      "Actual: 0, RFC with TFIDF+USE embedding Predicted: 0\n",
      "\n",
      "Actual: 1, RFC with TFIDF+USE embedding Predicted: 1\n",
      "\n",
      "Actual: 0, RFC with TFIDF+USE embedding Predicted: 0\n",
      "\n"
     ]
    }
   ],
   "source": [
    "print('0 = negative, 1 = positive')\n",
    "for actual, predicted in zip(ytest[:15], y_pred_rfc_tfidf_use[:15]):\n",
    "    print(f\"Actual: {actual}, RFC with TFIDF+USE embedding Predicted: {predicted}\")\n",
    "    print()"
   ]
  },
  {
   "cell_type": "code",
   "execution_count": 81,
   "metadata": {},
   "outputs": [
    {
     "name": "stdout",
     "output_type": "stream",
     "text": [
      "Random Forest (TFIDF+USE) Accuracy: 0.79\n",
      "Random Forest (TFIDF+USE) Precision: 0.79\n",
      "Random Forest (TFIDF+USE) Recall: 0.78\n",
      "Random Forest (TFIDF+USE) F1 score: 0.79\n",
      "Classification Report:\n",
      "              precision    recall  f1-score   support\n",
      "\n",
      "           0       0.78      0.79      0.78      4957\n",
      "           1       0.79      0.78      0.79      5043\n",
      "\n",
      "    accuracy                           0.79     10000\n",
      "   macro avg       0.79      0.79      0.79     10000\n",
      "weighted avg       0.79      0.79      0.79     10000\n",
      "\n",
      "Confusion Matrix:\n",
      "[[3905 1052]\n",
      " [1090 3953]]\n"
     ]
    }
   ],
   "source": [
    "print(f\"Random Forest (TFIDF+USE) Accuracy: {accuracy_rfc_tfidf_use:.2f}\")\n",
    "print(f\"Random Forest (TFIDF+USE) Precision: {precision_rfc_tfidf_use:.2f}\")\n",
    "print(f\"Random Forest (TFIDF+USE) Recall: {recall_rfc_tfidf_use:.2f}\")\n",
    "print(f\"Random Forest (TFIDF+USE) F1 score: {f1_rfc_tfidf_use:.2f}\")\n",
    "print(\"Classification Report:\")\n",
    "print(report_rfc_tfidf_use)\n",
    "print(\"Confusion Matrix:\")\n",
    "print(cm_rfc_tfidf_use)"
   ]
  },
  {
   "cell_type": "markdown",
   "metadata": {},
   "source": [
    "# Visualization"
   ]
  },
  {
   "cell_type": "code",
   "execution_count": 82,
   "metadata": {},
   "outputs": [
    {
     "data": {
      "image/png": "[encoded data removed]",
      "text/plain": [
       "<Figure size 1000x600 with 1 Axes>"
      ]
     },
     "metadata": {},
     "output_type": "display_data"
    }
   ],
   "source": [
    "# Define the classifiers and their corresponding accuracies\n",
    "classifiers = [\"Linear SVM\", \"Logistic Regression\", \"XGBoost\", \"Random Forest\"]\n",
    "tfidf_accuracies = [accuracy_svm, accuracy_lr, accuracy_xgboost, accuracy_rfc]  # Replace with actual accuracy values\n",
    "use_accuracies = [accuracy_svm_use, accuracy_lr_use, accuracy_xgboost_use, accuracy_rfc_use]  # Replace with actual accuracy values\n",
    "tfidf_use_accuracies = [accuracy_svm_tfidf_use, accuracy_lr_tfidf_use, accuracy_xgb_tfidf_use, accuracy_rfc_tfidf_use]  # Replace with actual accuracy values\n",
    "\n",
    "# Create an index for the x-axis\n",
    "x = np.arange(len(classifiers))\n",
    "\n",
    "# Set the width of the bars\n",
    "bar_width = 0.25\n",
    "\n",
    "# Create a grouped bar chart\n",
    "plt.figure(figsize=(10, 6))\n",
    "plt.bar(x - bar_width, tfidf_accuracies, bar_width, label='TF-IDF', color='orange')\n",
    "plt.bar(x, use_accuracies, bar_width, label='USE', color='purple')\n",
    "plt.bar(x + bar_width, tfidf_use_accuracies, bar_width, label='TF-IDF+USE', color='red')\n",
    "\n",
    "# Set labels, title, and legend\n",
    "plt.xlabel('Classifiers')\n",
    "plt.ylabel('Accuracy')\n",
    "plt.title('Classifier Accuracies with Different Embeddings')\n",
    "plt.xticks(x, classifiers)\n",
    "plt.ylim(0, 1.0)\n",
    "plt.legend()\n",
    "\n",
    "# Add accuracy values on top of the bars\n",
    "for i in range(len(classifiers)):\n",
    "    plt.text(x[i] - bar_width, tfidf_accuracies[i] + 0.02, f\"{tfidf_accuracies[i]:.2f}\", ha='center')\n",
    "    plt.text(x[i], use_accuracies[i] + 0.02, f\"{use_accuracies[i]:.2f}\", ha='center')\n",
    "    plt.text(x[i] + bar_width, tfidf_use_accuracies[i] + 0.02, f\"{tfidf_use_accuracies[i]:.2f}\", ha='center')\n",
    "\n",
    "\n",
    "# Display the plot\n",
    "plt.tight_layout()\n",
    "plt.show()"
   ]
  },
  {
   "cell_type": "markdown",
   "metadata": {},
   "source": [
    "# Conclusion: If you see above visualization, as compared to TF-IDF embedding, USE as well as TF-IDF+USE embeddings works better for sentiment analysis on IMDB dataset with different classifiers"
   ]
  }
 ],
 "metadata": {
  "colab": {
   "provenance": []
  },
  "kernelspec": {
   "display_name": "Python 3 (ipykernel)",
   "language": "python",
   "name": "python3"
  },
  "language_info": {
   "codemirror_mode": {
    "name": "ipython",
    "version": 3
   },
   "file_extension": ".py",
   "mimetype": "text/x-python",
   "name": "python",
   "nbconvert_exporter": "python",
   "pygments_lexer": "ipython3",
   "version": "3.10.9"
  }
 },
 "nbformat": 4,
 "nbformat_minor": 1
}
